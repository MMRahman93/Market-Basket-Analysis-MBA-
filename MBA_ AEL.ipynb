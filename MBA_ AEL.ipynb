{
 "cells": [
  {
   "cell_type": "markdown",
   "metadata": {},
   "source": [
    "# Loading Library"
   ]
  },
  {
   "cell_type": "code",
   "execution_count": 1,
   "metadata": {},
   "outputs": [],
   "source": [
    "import numpy as np\n",
    "import pandas as pd\n",
    "import matplotlib.pyplot as plt\n",
    "import seaborn as sns\n",
    "%matplotlib inline\n",
    "import plotly.express as px\n",
    "import pyodbc\n",
    "\n",
    "import warnings\n",
    "warnings.filterwarnings('ignore')\n",
    "\n",
    "import os\n",
    "for dirname, _, filenames in os.walk('/kaggle/input'):\n",
    "    for filename in filenames:\n",
    "        print(os.path.join(dirname, filename))"
   ]
  },
  {
   "cell_type": "markdown",
   "metadata": {},
   "source": [
    "# 1. | Loading and Cleaning data"
   ]
  },
  {
   "cell_type": "markdown",
   "metadata": {},
   "source": [
    "1-1. | Loading data"
   ]
  },
  {
   "cell_type": "code",
   "execution_count": 2,
   "metadata": {},
   "outputs": [],
   "source": [
    "cnxn = pyodbc.connect('DRIVER={SQL Server};SERVER=--;DATABASE=SSISRND;UID=--;PWD=--')\n",
    "cursor = cnxn.cursor()"
   ]
  },
  {
   "cell_type": "code",
   "execution_count": 3,
   "metadata": {},
   "outputs": [],
   "source": [
    "sql =\"\"\"SELECT so.[Order_No]\n",
    "      ,so.[SalesOrderRowid]\n",
    "      ,so.[Order_ID]\n",
    "      ,so.[Unit_ID]\n",
    "      ,so.[Sales_Organization_Name]\n",
    "      ,so.[Order_date]\n",
    "      ,so.[Customer_ID]\n",
    "      ,so.[Item_ID]\n",
    "      ,i.[Item_Name]\n",
    "      ,i.[Base_UoM]\n",
    "      ,i.[Item_Code]\n",
    "      ,so.[Order_Qty]\n",
    "      ,so.[Item_Price]\n",
    "      ,so.[Currency]\n",
    "      ,so.[Shippoint_ID]\n",
    "      ,so.[Shippoint_Name]\n",
    "      ,so.[Plant_Name]\n",
    "      ,so.[Retailer_ID]\n",
    "      ,so.[Retailer_Name]\n",
    "      ,so.[Retailer_Address]\n",
    "      ,so.[Retailer_ContactNo]\n",
    "      ,so.[Transport_Rate]\n",
    "      ,so.[Unit_Group_name]\n",
    "  FROM [SSISRND].[o2c].[SalesOrderInformation] As so\n",
    "  JOin [SSISRND].[dim].[ItemProfile] As i on i.Item_Id = so.Item_ID\n",
    "  where so.[Unit_ID] = 144 and [Sales_Organization_Name]= 'LOCAL SALES'\"\"\"\n",
    "soi = pd.read_sql(sql,cnxn)"
   ]
  },
  {
   "cell_type": "code",
   "execution_count": 5,
   "metadata": {},
   "outputs": [
    {
     "data": {
      "text/html": [
       "<div>\n",
       "<style scoped>\n",
       "    .dataframe tbody tr th:only-of-type {\n",
       "        vertical-align: middle;\n",
       "    }\n",
       "\n",
       "    .dataframe tbody tr th {\n",
       "        vertical-align: top;\n",
       "    }\n",
       "\n",
       "    .dataframe thead th {\n",
       "        text-align: right;\n",
       "    }\n",
       "</style>\n",
       "<table border=\"1\" class=\"dataframe\">\n",
       "  <thead>\n",
       "    <tr style=\"text-align: right;\">\n",
       "      <th></th>\n",
       "      <th>Order_ID</th>\n",
       "      <th>Item_ID</th>\n",
       "      <th>Item_Name</th>\n",
       "      <th>Order_Qty</th>\n",
       "      <th>Order_date</th>\n",
       "      <th>Item_Price</th>\n",
       "      <th>Customer_ID</th>\n",
       "      <th>Order_Value</th>\n",
       "    </tr>\n",
       "  </thead>\n",
       "  <tbody>\n",
       "    <tr>\n",
       "      <th>0</th>\n",
       "      <td>451986</td>\n",
       "      <td>128818</td>\n",
       "      <td>Salt Iodized 50 kg</td>\n",
       "      <td>240.0</td>\n",
       "      <td>2022-11-06 00:00:00.0000000</td>\n",
       "      <td>1450.0</td>\n",
       "      <td>74529</td>\n",
       "      <td>348000.0</td>\n",
       "    </tr>\n",
       "    <tr>\n",
       "      <th>1</th>\n",
       "      <td>570039</td>\n",
       "      <td>128818</td>\n",
       "      <td>Salt Iodized 50 kg</td>\n",
       "      <td>23.0</td>\n",
       "      <td>2023-05-21 00:00:00.0000000</td>\n",
       "      <td>7.0</td>\n",
       "      <td>70373</td>\n",
       "      <td>161.0</td>\n",
       "    </tr>\n",
       "    <tr>\n",
       "      <th>2</th>\n",
       "      <td>629599</td>\n",
       "      <td>170686</td>\n",
       "      <td>Katari Atop New 50 kg (T)</td>\n",
       "      <td>5.0</td>\n",
       "      <td>2023-09-21 00:00:00.0000000</td>\n",
       "      <td>1660.0</td>\n",
       "      <td>88040</td>\n",
       "      <td>8300.0</td>\n",
       "    </tr>\n",
       "    <tr>\n",
       "      <th>3</th>\n",
       "      <td>601756</td>\n",
       "      <td>170686</td>\n",
       "      <td>Katari Atop New 50 kg (T)</td>\n",
       "      <td>30.0</td>\n",
       "      <td>2023-07-20 00:00:00.0000000</td>\n",
       "      <td>3380.0</td>\n",
       "      <td>73445</td>\n",
       "      <td>101400.0</td>\n",
       "    </tr>\n",
       "    <tr>\n",
       "      <th>4</th>\n",
       "      <td>603469</td>\n",
       "      <td>170686</td>\n",
       "      <td>Katari Atop New 50 kg (T)</td>\n",
       "      <td>2.0</td>\n",
       "      <td>2023-07-25 00:00:00.0000000</td>\n",
       "      <td>3216.0</td>\n",
       "      <td>73415</td>\n",
       "      <td>6432.0</td>\n",
       "    </tr>\n",
       "  </tbody>\n",
       "</table>\n",
       "</div>"
      ],
      "text/plain": [
       "   Order_ID  Item_ID                  Item_Name  Order_Qty  \\\n",
       "0    451986   128818         Salt Iodized 50 kg      240.0   \n",
       "1    570039   128818         Salt Iodized 50 kg       23.0   \n",
       "2    629599   170686  Katari Atop New 50 kg (T)        5.0   \n",
       "3    601756   170686  Katari Atop New 50 kg (T)       30.0   \n",
       "4    603469   170686  Katari Atop New 50 kg (T)        2.0   \n",
       "\n",
       "                    Order_date  Item_Price  Customer_ID  Order_Value  \n",
       "0  2022-11-06 00:00:00.0000000      1450.0        74529     348000.0  \n",
       "1  2023-05-21 00:00:00.0000000         7.0        70373        161.0  \n",
       "2  2023-09-21 00:00:00.0000000      1660.0        88040       8300.0  \n",
       "3  2023-07-20 00:00:00.0000000      3380.0        73445     101400.0  \n",
       "4  2023-07-25 00:00:00.0000000      3216.0        73415       6432.0  "
      ]
     },
     "execution_count": 5,
     "metadata": {},
     "output_type": "execute_result"
    }
   ],
   "source": [
    "df = soi[['Order_ID','Item_ID','Item_Name','Order_Qty','Order_date','Item_Price','Customer_ID']]\n",
    "df['Order_Value'] = df['Item_Price']*df['Order_Qty']\n",
    "df.head()"
   ]
  },
  {
   "cell_type": "code",
   "execution_count": 6,
   "metadata": {},
   "outputs": [
    {
     "data": {
      "text/plain": [
       "(121783, 8)"
      ]
     },
     "execution_count": 6,
     "metadata": {},
     "output_type": "execute_result"
    }
   ],
   "source": [
    "df.shape"
   ]
  },
  {
   "cell_type": "markdown",
   "metadata": {},
   "source": [
    "1-2. | Dropping data with negative or zero quantity"
   ]
  },
  {
   "cell_type": "code",
   "execution_count": 7,
   "metadata": {},
   "outputs": [],
   "source": [
    "df=df.loc[df['Order_Qty']>0]"
   ]
  },
  {
   "cell_type": "code",
   "execution_count": 8,
   "metadata": {},
   "outputs": [
    {
     "data": {
      "text/plain": [
       "(117646, 8)"
      ]
     },
     "execution_count": 8,
     "metadata": {},
     "output_type": "execute_result"
    }
   ],
   "source": [
    "df.shape"
   ]
  },
  {
   "cell_type": "markdown",
   "metadata": {},
   "source": [
    "1-3. | Dropping data with zero price"
   ]
  },
  {
   "cell_type": "code",
   "execution_count": 9,
   "metadata": {},
   "outputs": [],
   "source": [
    "df=df.loc[df['Item_Price']>0]"
   ]
  },
  {
   "cell_type": "code",
   "execution_count": 10,
   "metadata": {},
   "outputs": [
    {
     "data": {
      "text/plain": [
       "(110876, 8)"
      ]
     },
     "execution_count": 10,
     "metadata": {},
     "output_type": "execute_result"
    }
   ],
   "source": [
    "df.shape"
   ]
  },
  {
   "cell_type": "code",
   "execution_count": 12,
   "metadata": {},
   "outputs": [
    {
     "data": {
      "text/html": [
       "<div>\n",
       "<style scoped>\n",
       "    .dataframe tbody tr th:only-of-type {\n",
       "        vertical-align: middle;\n",
       "    }\n",
       "\n",
       "    .dataframe tbody tr th {\n",
       "        vertical-align: top;\n",
       "    }\n",
       "\n",
       "    .dataframe thead th {\n",
       "        text-align: right;\n",
       "    }\n",
       "</style>\n",
       "<table border=\"1\" class=\"dataframe\">\n",
       "  <thead>\n",
       "    <tr style=\"text-align: right;\">\n",
       "      <th></th>\n",
       "      <th>Order_ID</th>\n",
       "      <th>Item_ID</th>\n",
       "      <th>Item_Name</th>\n",
       "      <th>Order_Qty</th>\n",
       "      <th>Order_date</th>\n",
       "      <th>Item_Price</th>\n",
       "      <th>Customer_ID</th>\n",
       "      <th>Order_Value</th>\n",
       "    </tr>\n",
       "  </thead>\n",
       "  <tbody>\n",
       "    <tr>\n",
       "      <th>0</th>\n",
       "      <td>451986</td>\n",
       "      <td>128818</td>\n",
       "      <td>Salt Iodized 50 kg</td>\n",
       "      <td>240.0</td>\n",
       "      <td>2022-11-06 00:00:00.0000000</td>\n",
       "      <td>1450.0</td>\n",
       "      <td>74529</td>\n",
       "      <td>348000.0</td>\n",
       "    </tr>\n",
       "    <tr>\n",
       "      <th>1</th>\n",
       "      <td>570039</td>\n",
       "      <td>128818</td>\n",
       "      <td>Salt Iodized 50 kg</td>\n",
       "      <td>23.0</td>\n",
       "      <td>2023-05-21 00:00:00.0000000</td>\n",
       "      <td>7.0</td>\n",
       "      <td>70373</td>\n",
       "      <td>161.0</td>\n",
       "    </tr>\n",
       "    <tr>\n",
       "      <th>2</th>\n",
       "      <td>629599</td>\n",
       "      <td>170686</td>\n",
       "      <td>Katari Atop New 50 kg (T)</td>\n",
       "      <td>5.0</td>\n",
       "      <td>2023-09-21 00:00:00.0000000</td>\n",
       "      <td>1660.0</td>\n",
       "      <td>88040</td>\n",
       "      <td>8300.0</td>\n",
       "    </tr>\n",
       "    <tr>\n",
       "      <th>3</th>\n",
       "      <td>601756</td>\n",
       "      <td>170686</td>\n",
       "      <td>Katari Atop New 50 kg (T)</td>\n",
       "      <td>30.0</td>\n",
       "      <td>2023-07-20 00:00:00.0000000</td>\n",
       "      <td>3380.0</td>\n",
       "      <td>73445</td>\n",
       "      <td>101400.0</td>\n",
       "    </tr>\n",
       "    <tr>\n",
       "      <th>4</th>\n",
       "      <td>603469</td>\n",
       "      <td>170686</td>\n",
       "      <td>Katari Atop New 50 kg (T)</td>\n",
       "      <td>2.0</td>\n",
       "      <td>2023-07-25 00:00:00.0000000</td>\n",
       "      <td>3216.0</td>\n",
       "      <td>73415</td>\n",
       "      <td>6432.0</td>\n",
       "    </tr>\n",
       "  </tbody>\n",
       "</table>\n",
       "</div>"
      ],
      "text/plain": [
       "   Order_ID  Item_ID                  Item_Name  Order_Qty  \\\n",
       "0    451986   128818         Salt Iodized 50 kg      240.0   \n",
       "1    570039   128818         Salt Iodized 50 kg       23.0   \n",
       "2    629599   170686  Katari Atop New 50 kg (T)        5.0   \n",
       "3    601756   170686  Katari Atop New 50 kg (T)       30.0   \n",
       "4    603469   170686  Katari Atop New 50 kg (T)        2.0   \n",
       "\n",
       "                    Order_date  Item_Price  Customer_ID  Order_Value  \n",
       "0  2022-11-06 00:00:00.0000000      1450.0        74529     348000.0  \n",
       "1  2023-05-21 00:00:00.0000000         7.0        70373        161.0  \n",
       "2  2023-09-21 00:00:00.0000000      1660.0        88040       8300.0  \n",
       "3  2023-07-20 00:00:00.0000000      3380.0        73445     101400.0  \n",
       "4  2023-07-25 00:00:00.0000000      3216.0        73415       6432.0  "
      ]
     },
     "execution_count": 12,
     "metadata": {},
     "output_type": "execute_result"
    }
   ],
   "source": [
    "df.head()"
   ]
  },
  {
   "cell_type": "markdown",
   "metadata": {},
   "source": [
    "1-4. | Null value Observation"
   ]
  },
  {
   "cell_type": "code",
   "execution_count": 15,
   "metadata": {},
   "outputs": [
    {
     "data": {
      "text/plain": [
       "Order_ID       0\n",
       "Item_ID        0\n",
       "Item_Name      0\n",
       "Order_Qty      0\n",
       "Order_date     0\n",
       "Item_Price     0\n",
       "Customer_ID    0\n",
       "Order_Value    0\n",
       "dtype: int64"
      ]
     },
     "execution_count": 15,
     "metadata": {},
     "output_type": "execute_result"
    }
   ],
   "source": [
    "# Null Data Checking\n",
    "df.isnull().sum()"
   ]
  },
  {
   "cell_type": "markdown",
   "metadata": {},
   "source": [
    "1-5. | Adding Year and Month Column"
   ]
  },
  {
   "cell_type": "code",
   "execution_count": 16,
   "metadata": {},
   "outputs": [
    {
     "data": {
      "text/html": [
       "<div>\n",
       "<style scoped>\n",
       "    .dataframe tbody tr th:only-of-type {\n",
       "        vertical-align: middle;\n",
       "    }\n",
       "\n",
       "    .dataframe tbody tr th {\n",
       "        vertical-align: top;\n",
       "    }\n",
       "\n",
       "    .dataframe thead th {\n",
       "        text-align: right;\n",
       "    }\n",
       "</style>\n",
       "<table border=\"1\" class=\"dataframe\">\n",
       "  <thead>\n",
       "    <tr style=\"text-align: right;\">\n",
       "      <th></th>\n",
       "      <th>Order_ID</th>\n",
       "      <th>Item_ID</th>\n",
       "      <th>Item_Name</th>\n",
       "      <th>Order_Qty</th>\n",
       "      <th>Order_date</th>\n",
       "      <th>Item_Price</th>\n",
       "      <th>Customer_ID</th>\n",
       "      <th>Order_Value</th>\n",
       "      <th>Year</th>\n",
       "      <th>Month</th>\n",
       "    </tr>\n",
       "  </thead>\n",
       "  <tbody>\n",
       "    <tr>\n",
       "      <th>0</th>\n",
       "      <td>451986</td>\n",
       "      <td>128818</td>\n",
       "      <td>Salt Iodized 50 kg</td>\n",
       "      <td>240.0</td>\n",
       "      <td>2022-11-06</td>\n",
       "      <td>1450.0</td>\n",
       "      <td>74529</td>\n",
       "      <td>348000.0</td>\n",
       "      <td>2022</td>\n",
       "      <td>11</td>\n",
       "    </tr>\n",
       "    <tr>\n",
       "      <th>1</th>\n",
       "      <td>570039</td>\n",
       "      <td>128818</td>\n",
       "      <td>Salt Iodized 50 kg</td>\n",
       "      <td>23.0</td>\n",
       "      <td>2023-05-21</td>\n",
       "      <td>7.0</td>\n",
       "      <td>70373</td>\n",
       "      <td>161.0</td>\n",
       "      <td>2023</td>\n",
       "      <td>5</td>\n",
       "    </tr>\n",
       "    <tr>\n",
       "      <th>2</th>\n",
       "      <td>629599</td>\n",
       "      <td>170686</td>\n",
       "      <td>Katari Atop New 50 kg (T)</td>\n",
       "      <td>5.0</td>\n",
       "      <td>2023-09-21</td>\n",
       "      <td>1660.0</td>\n",
       "      <td>88040</td>\n",
       "      <td>8300.0</td>\n",
       "      <td>2023</td>\n",
       "      <td>9</td>\n",
       "    </tr>\n",
       "    <tr>\n",
       "      <th>3</th>\n",
       "      <td>601756</td>\n",
       "      <td>170686</td>\n",
       "      <td>Katari Atop New 50 kg (T)</td>\n",
       "      <td>30.0</td>\n",
       "      <td>2023-07-20</td>\n",
       "      <td>3380.0</td>\n",
       "      <td>73445</td>\n",
       "      <td>101400.0</td>\n",
       "      <td>2023</td>\n",
       "      <td>7</td>\n",
       "    </tr>\n",
       "    <tr>\n",
       "      <th>4</th>\n",
       "      <td>603469</td>\n",
       "      <td>170686</td>\n",
       "      <td>Katari Atop New 50 kg (T)</td>\n",
       "      <td>2.0</td>\n",
       "      <td>2023-07-25</td>\n",
       "      <td>3216.0</td>\n",
       "      <td>73415</td>\n",
       "      <td>6432.0</td>\n",
       "      <td>2023</td>\n",
       "      <td>7</td>\n",
       "    </tr>\n",
       "  </tbody>\n",
       "</table>\n",
       "</div>"
      ],
      "text/plain": [
       "   Order_ID  Item_ID                  Item_Name  Order_Qty Order_date  \\\n",
       "0    451986   128818         Salt Iodized 50 kg      240.0 2022-11-06   \n",
       "1    570039   128818         Salt Iodized 50 kg       23.0 2023-05-21   \n",
       "2    629599   170686  Katari Atop New 50 kg (T)        5.0 2023-09-21   \n",
       "3    601756   170686  Katari Atop New 50 kg (T)       30.0 2023-07-20   \n",
       "4    603469   170686  Katari Atop New 50 kg (T)        2.0 2023-07-25   \n",
       "\n",
       "   Item_Price  Customer_ID  Order_Value  Year  Month  \n",
       "0      1450.0        74529     348000.0  2022     11  \n",
       "1         7.0        70373        161.0  2023      5  \n",
       "2      1660.0        88040       8300.0  2023      9  \n",
       "3      3380.0        73445     101400.0  2023      7  \n",
       "4      3216.0        73415       6432.0  2023      7  "
      ]
     },
     "execution_count": 16,
     "metadata": {},
     "output_type": "execute_result"
    }
   ],
   "source": [
    "df['Order_date'] = pd.to_datetime(df['Order_date'])\n",
    "df['Year']=df['Order_date'].dt.year\n",
    "df['Month']=df['Order_date'].dt.month\n",
    "df.head()"
   ]
  },
  {
   "cell_type": "markdown",
   "metadata": {},
   "source": [
    "1-6. | Checking the Total Order Value in each month."
   ]
  },
  {
   "cell_type": "code",
   "execution_count": 17,
   "metadata": {},
   "outputs": [
    {
     "data": {
      "text/plain": [
       "Year  Month\n",
       "2022  3        1.621655e+09\n",
       "      4        1.600870e+09\n",
       "      5        1.837949e+09\n",
       "      6        2.328223e+09\n",
       "      7        1.615141e+09\n",
       "      8        1.863025e+09\n",
       "      9        1.914956e+09\n",
       "      10       2.529164e+09\n",
       "      11       2.156049e+09\n",
       "      12       1.666527e+09\n",
       "2023  1        2.804405e+09\n",
       "      2        1.748163e+09\n",
       "      3        1.757094e+09\n",
       "      4        2.998547e+09\n",
       "      5        2.597337e+09\n",
       "      6        1.995422e+09\n",
       "      7        2.931360e+09\n",
       "      8        4.863359e+09\n",
       "      9        4.447029e+09\n",
       "      10       4.211737e+09\n",
       "      11       3.848929e+09\n",
       "      12       3.315641e+09\n",
       "2024  1        2.509286e+09\n",
       "      2        1.018099e+09\n",
       "Name: Order_Value, dtype: float64"
      ]
     },
     "execution_count": 17,
     "metadata": {},
     "output_type": "execute_result"
    }
   ],
   "source": [
    "df.groupby(['Year','Month'])['Order_Value'].sum()"
   ]
  },
  {
   "cell_type": "code",
   "execution_count": 18,
   "metadata": {},
   "outputs": [],
   "source": [
    "df1=df.copy()"
   ]
  },
  {
   "cell_type": "code",
   "execution_count": 19,
   "metadata": {},
   "outputs": [
    {
     "data": {
      "text/html": [
       "<div>\n",
       "<style scoped>\n",
       "    .dataframe tbody tr th:only-of-type {\n",
       "        vertical-align: middle;\n",
       "    }\n",
       "\n",
       "    .dataframe tbody tr th {\n",
       "        vertical-align: top;\n",
       "    }\n",
       "\n",
       "    .dataframe thead th {\n",
       "        text-align: right;\n",
       "    }\n",
       "</style>\n",
       "<table border=\"1\" class=\"dataframe\">\n",
       "  <thead>\n",
       "    <tr style=\"text-align: right;\">\n",
       "      <th></th>\n",
       "      <th>Order_ID</th>\n",
       "      <th>Item_ID</th>\n",
       "      <th>Item_Name</th>\n",
       "      <th>Order_Qty</th>\n",
       "      <th>Order_date</th>\n",
       "      <th>Item_Price</th>\n",
       "      <th>Customer_ID</th>\n",
       "      <th>Order_Value</th>\n",
       "      <th>Year</th>\n",
       "      <th>Month</th>\n",
       "    </tr>\n",
       "  </thead>\n",
       "  <tbody>\n",
       "    <tr>\n",
       "      <th>0</th>\n",
       "      <td>451986</td>\n",
       "      <td>128818</td>\n",
       "      <td>Salt Iodized 50 kg</td>\n",
       "      <td>240.0</td>\n",
       "      <td>2022-11-06</td>\n",
       "      <td>1450.0</td>\n",
       "      <td>74529</td>\n",
       "      <td>348000.0</td>\n",
       "      <td>2022</td>\n",
       "      <td>11</td>\n",
       "    </tr>\n",
       "    <tr>\n",
       "      <th>1</th>\n",
       "      <td>570039</td>\n",
       "      <td>128818</td>\n",
       "      <td>Salt Iodized 50 kg</td>\n",
       "      <td>23.0</td>\n",
       "      <td>2023-05-21</td>\n",
       "      <td>7.0</td>\n",
       "      <td>70373</td>\n",
       "      <td>161.0</td>\n",
       "      <td>2023</td>\n",
       "      <td>5</td>\n",
       "    </tr>\n",
       "    <tr>\n",
       "      <th>2</th>\n",
       "      <td>629599</td>\n",
       "      <td>170686</td>\n",
       "      <td>Katari Atop New 50 kg (T)</td>\n",
       "      <td>5.0</td>\n",
       "      <td>2023-09-21</td>\n",
       "      <td>1660.0</td>\n",
       "      <td>88040</td>\n",
       "      <td>8300.0</td>\n",
       "      <td>2023</td>\n",
       "      <td>9</td>\n",
       "    </tr>\n",
       "    <tr>\n",
       "      <th>3</th>\n",
       "      <td>601756</td>\n",
       "      <td>170686</td>\n",
       "      <td>Katari Atop New 50 kg (T)</td>\n",
       "      <td>30.0</td>\n",
       "      <td>2023-07-20</td>\n",
       "      <td>3380.0</td>\n",
       "      <td>73445</td>\n",
       "      <td>101400.0</td>\n",
       "      <td>2023</td>\n",
       "      <td>7</td>\n",
       "    </tr>\n",
       "    <tr>\n",
       "      <th>4</th>\n",
       "      <td>603469</td>\n",
       "      <td>170686</td>\n",
       "      <td>Katari Atop New 50 kg (T)</td>\n",
       "      <td>2.0</td>\n",
       "      <td>2023-07-25</td>\n",
       "      <td>3216.0</td>\n",
       "      <td>73415</td>\n",
       "      <td>6432.0</td>\n",
       "      <td>2023</td>\n",
       "      <td>7</td>\n",
       "    </tr>\n",
       "  </tbody>\n",
       "</table>\n",
       "</div>"
      ],
      "text/plain": [
       "   Order_ID  Item_ID                  Item_Name  Order_Qty Order_date  \\\n",
       "0    451986   128818         Salt Iodized 50 kg      240.0 2022-11-06   \n",
       "1    570039   128818         Salt Iodized 50 kg       23.0 2023-05-21   \n",
       "2    629599   170686  Katari Atop New 50 kg (T)        5.0 2023-09-21   \n",
       "3    601756   170686  Katari Atop New 50 kg (T)       30.0 2023-07-20   \n",
       "4    603469   170686  Katari Atop New 50 kg (T)        2.0 2023-07-25   \n",
       "\n",
       "   Item_Price  Customer_ID  Order_Value  Year  Month  \n",
       "0      1450.0        74529     348000.0  2022     11  \n",
       "1         7.0        70373        161.0  2023      5  \n",
       "2      1660.0        88040       8300.0  2023      9  \n",
       "3      3380.0        73445     101400.0  2023      7  \n",
       "4      3216.0        73415       6432.0  2023      7  "
      ]
     },
     "execution_count": 19,
     "metadata": {},
     "output_type": "execute_result"
    }
   ],
   "source": [
    "df1.head()"
   ]
  },
  {
   "cell_type": "markdown",
   "metadata": {},
   "source": [
    "# 2. | Exploratoty Data Analysis"
   ]
  },
  {
   "cell_type": "markdown",
   "metadata": {},
   "source": [
    "2-1. | Orderd amount and Order quantity"
   ]
  },
  {
   "cell_type": "code",
   "execution_count": 20,
   "metadata": {},
   "outputs": [
    {
     "data": {
      "image/png": "[encoded data removed]",
      "text/plain": [
       "<Figure size 900x600 with 1 Axes>"
      ]
     },
     "metadata": {
      "needs_background": "light"
     },
     "output_type": "display_data"
    }
   ],
   "source": [
    "# Grouping data and processing\n",
    "Order = df1.groupby(['Year','Month']).agg({\n",
    "    'Order_Value':'sum',\n",
    "    'Order_Qty': 'sum'\n",
    "}).reset_index()\n",
    "Order['Order_Value_inThousand'] = Order['Order_Value'] / 1000\n",
    "Order.to_csv('Order.csv')\n",
    "Order = pd.read_csv('Order.csv')\n",
    "Order = Order.pivot_table(Order, index=['Year', 'Month'], aggfunc=np.sum, fill_value=0)\n",
    "Order = Order[['Order_Qty', 'Order_Value_inThousand']]\n",
    "\n",
    "# Plotting\n",
    "fig, ax = plt.subplots(figsize=(6, 4), dpi=150)  # Adjust figure size as needed\n",
    "colors = ['#000080', '#A52A2A']  # Custom color for bars\n",
    "Order.plot(kind='bar', color=colors, ax=ax)\n",
    "plt.title('Monthly Order Quantity and Value (In Thousand)')\n",
    "plt.xlabel('(Year, Month)')\n",
    "plt.ylabel('Order QTY, & Value (Thousand)')\n",
    "plt.xticks(rotation=45)  # Rotate x-axis labels for better visibility\n",
    "plt.tight_layout()  # Adjust layout to prevent overlapping\n",
    "plt.show()\n"
   ]
  },
  {
   "cell_type": "markdown",
   "metadata": {},
   "source": [
    "2-2. | Category"
   ]
  },
  {
   "cell_type": "markdown",
   "metadata": {},
   "source": [
    "Top 10 highest order amount items"
   ]
  },
  {
   "cell_type": "code",
   "execution_count": 21,
   "metadata": {},
   "outputs": [
    {
     "data": {
      "image/png": "[encoded data removed]",
      "text/plain": [
       "<Figure size 1500x750 with 1 Axes>"
      ]
     },
     "metadata": {
      "needs_background": "light"
     },
     "output_type": "display_data"
    }
   ],
   "source": [
    "item_Order = df1.groupby('Item_ID')['Order_Value'].sum().sort_values(ascending=False)[:10]\n",
    "\n",
    "# Plotting\n",
    "fig, ax = plt.subplots(figsize=(10,5), dpi=150)  # Adjust figure size as needed\n",
    "colors = ['#000080']  # Custom color for bars\n",
    "item_Order.plot(kind='bar', color=colors, ax=ax)\n",
    "plt.title('Top 10 ordered Items by Order Amount')\n",
    "plt.xlabel('Item ID')\n",
    "plt.ylabel('Order Value')\n",
    "plt.xticks(rotation=45)  # Rotate x-axis labels for better visibility\n",
    "plt.tight_layout()  # Adjust layout to prevent overlapping\n",
    "plt.show()"
   ]
  },
  {
   "cell_type": "markdown",
   "metadata": {},
   "source": [
    "Top 10 order Item by order Quantity"
   ]
  },
  {
   "cell_type": "code",
   "execution_count": 22,
   "metadata": {},
   "outputs": [
    {
     "data": {
      "image/png": "[encoded data removed]",
      "text/plain": [
       "<Figure size 1500x750 with 1 Axes>"
      ]
     },
     "metadata": {
      "needs_background": "light"
     },
     "output_type": "display_data"
    }
   ],
   "source": [
    "item_Order = df1.groupby(['Item_ID', 'Item_Name'])['Order_Qty'].sum().sort_values(ascending=False)[:10]\n",
    "\n",
    "item_names = [item[1] for item in item_Order.index]\n",
    "# Plotting\n",
    "fig, ax = plt.subplots(figsize=(10, 5), dpi=150)  # Adjust figure size as needed\n",
    "colors = ['#000080']  # Custom color for bars\n",
    "item_Order.plot(kind='bar', color=colors, ax=ax)\n",
    "plt.title('Top 10 ordered Items by Order Quantity')\n",
    "plt.xlabel('Item Name')  # Change xlabel to Item Name\n",
    "plt.ylabel('Order Quantity')\n",
    "plt.xticks(range(len(item_names)), item_names, rotation=45)  # Use item_names for x-axis labels\n",
    "plt.tight_layout()  # Adjust layout to prevent overlapping\n",
    "plt.show()"
   ]
  },
  {
   "cell_type": "code",
   "execution_count": null,
   "metadata": {},
   "outputs": [],
   "source": []
  },
  {
   "cell_type": "markdown",
   "metadata": {},
   "source": [
    "Top 10 most frequently purchased items"
   ]
  },
  {
   "cell_type": "code",
   "execution_count": 23,
   "metadata": {},
   "outputs": [
    {
     "data": {
      "image/png": "[encoded data removed]",
      "text/plain": [
       "<Figure size 1500x600 with 1 Axes>"
      ]
     },
     "metadata": {
      "needs_background": "light"
     },
     "output_type": "display_data"
    }
   ],
   "source": [
    "color = plt.cm.rainbow(np.linspace(0, 1, 30))\n",
    "# Plotting\n",
    "plt.figure(figsize=(10, 4), dpi=150)  # Adjust figure size as needed\n",
    "ax = df1['Item_Name'].value_counts().head(10).plot.bar(color=color)\n",
    "plt.title('Frequency of Most Popular Items', fontsize=14)\n",
    "plt.xticks(rotation=90, fontsize=8)\n",
    "plt.grid()\n",
    "# Adding data labels\n",
    "for i, v in enumerate(df1['Item_Name'].value_counts().head(10)):\n",
    "    ax.text(i, v + 0.2, str(v), ha='center', va='bottom')\n",
    "\n",
    "plt.show()"
   ]
  },
  {
   "cell_type": "markdown",
   "metadata": {},
   "source": [
    "# 3. | Market Basket Analysis"
   ]
  },
  {
   "cell_type": "markdown",
   "metadata": {},
   "source": [
    "3-1. | Implementing Apriori"
   ]
  },
  {
   "cell_type": "code",
   "execution_count": 24,
   "metadata": {},
   "outputs": [],
   "source": [
    "from mlxtend.frequent_patterns import apriori\n",
    "from mlxtend.frequent_patterns import association_rules"
   ]
  },
  {
   "cell_type": "code",
   "execution_count": 25,
   "metadata": {},
   "outputs": [],
   "source": [
    "df1['Item_Name']=df['Item_Name'].str.strip()\n",
    "df1['Order_ID']=df['Order_ID'].astype('str')"
   ]
  },
  {
   "cell_type": "code",
   "execution_count": 26,
   "metadata": {},
   "outputs": [],
   "source": [
    "basket=df1.groupby(['Order_ID','Item_Name'])['Order_Qty'].sum().unstack().reset_index().fillna(0).set_index('Order_ID')"
   ]
  },
  {
   "cell_type": "code",
   "execution_count": 27,
   "metadata": {},
   "outputs": [
    {
     "data": {
      "text/html": [
       "<div>\n",
       "<style scoped>\n",
       "    .dataframe tbody tr th:only-of-type {\n",
       "        vertical-align: middle;\n",
       "    }\n",
       "\n",
       "    .dataframe tbody tr th {\n",
       "        vertical-align: top;\n",
       "    }\n",
       "\n",
       "    .dataframe thead th {\n",
       "        text-align: right;\n",
       "    }\n",
       "</style>\n",
       "<table border=\"1\" class=\"dataframe\">\n",
       "  <thead>\n",
       "    <tr style=\"text-align: right;\">\n",
       "      <th>Item_Name</th>\n",
       "      <th>Atash 25 kg (M)</th>\n",
       "      <th>Atash 25 kg (T)</th>\n",
       "      <th>Atash 50 kg (M)</th>\n",
       "      <th>Atash 50 kg (T)</th>\n",
       "      <th>Atash Atop 25 kg (T)</th>\n",
       "      <th>Atta 1 kg</th>\n",
       "      <th>Atta 2 kg</th>\n",
       "      <th>Atta 50 kg</th>\n",
       "      <th>Balam 25 kg (T)</th>\n",
       "      <th>Banglamoti 25 kg (M)</th>\n",
       "      <th>...</th>\n",
       "      <th>Wheat Canada 1 kg</th>\n",
       "      <th>Wheat Canada 1000 kg</th>\n",
       "      <th>Wheat Canada 90 kg</th>\n",
       "      <th>Wheat Russia 1 kg</th>\n",
       "      <th>Wheat Russia 1000 kg</th>\n",
       "      <th>White flatted rice 50 kg</th>\n",
       "      <th>Whole Gorom Masala 100 gm (T)</th>\n",
       "      <th>Yellow Peas 10 kg</th>\n",
       "      <th>Yellow Peas 1000 KG</th>\n",
       "      <th>khud 3 Katari Atop 1 kg (M)</th>\n",
       "    </tr>\n",
       "    <tr>\n",
       "      <th>Order_ID</th>\n",
       "      <th></th>\n",
       "      <th></th>\n",
       "      <th></th>\n",
       "      <th></th>\n",
       "      <th></th>\n",
       "      <th></th>\n",
       "      <th></th>\n",
       "      <th></th>\n",
       "      <th></th>\n",
       "      <th></th>\n",
       "      <th></th>\n",
       "      <th></th>\n",
       "      <th></th>\n",
       "      <th></th>\n",
       "      <th></th>\n",
       "      <th></th>\n",
       "      <th></th>\n",
       "      <th></th>\n",
       "      <th></th>\n",
       "      <th></th>\n",
       "      <th></th>\n",
       "    </tr>\n",
       "  </thead>\n",
       "  <tbody>\n",
       "    <tr>\n",
       "      <th>349120</th>\n",
       "      <td>0.0</td>\n",
       "      <td>0.0</td>\n",
       "      <td>0.0</td>\n",
       "      <td>0.0</td>\n",
       "      <td>0.0</td>\n",
       "      <td>0.0</td>\n",
       "      <td>0.0</td>\n",
       "      <td>0.0</td>\n",
       "      <td>0.0</td>\n",
       "      <td>0.0</td>\n",
       "      <td>...</td>\n",
       "      <td>0.0</td>\n",
       "      <td>0.0</td>\n",
       "      <td>0.0</td>\n",
       "      <td>0.0</td>\n",
       "      <td>0.0</td>\n",
       "      <td>0.0</td>\n",
       "      <td>0.0</td>\n",
       "      <td>0.0</td>\n",
       "      <td>0.0</td>\n",
       "      <td>0.0</td>\n",
       "    </tr>\n",
       "    <tr>\n",
       "      <th>349243</th>\n",
       "      <td>0.0</td>\n",
       "      <td>0.0</td>\n",
       "      <td>0.0</td>\n",
       "      <td>0.0</td>\n",
       "      <td>0.0</td>\n",
       "      <td>0.0</td>\n",
       "      <td>0.0</td>\n",
       "      <td>2400.0</td>\n",
       "      <td>0.0</td>\n",
       "      <td>0.0</td>\n",
       "      <td>...</td>\n",
       "      <td>0.0</td>\n",
       "      <td>0.0</td>\n",
       "      <td>0.0</td>\n",
       "      <td>0.0</td>\n",
       "      <td>0.0</td>\n",
       "      <td>0.0</td>\n",
       "      <td>0.0</td>\n",
       "      <td>0.0</td>\n",
       "      <td>0.0</td>\n",
       "      <td>0.0</td>\n",
       "    </tr>\n",
       "    <tr>\n",
       "      <th>349250</th>\n",
       "      <td>0.0</td>\n",
       "      <td>0.0</td>\n",
       "      <td>0.0</td>\n",
       "      <td>0.0</td>\n",
       "      <td>0.0</td>\n",
       "      <td>0.0</td>\n",
       "      <td>0.0</td>\n",
       "      <td>0.0</td>\n",
       "      <td>0.0</td>\n",
       "      <td>0.0</td>\n",
       "      <td>...</td>\n",
       "      <td>0.0</td>\n",
       "      <td>0.0</td>\n",
       "      <td>0.0</td>\n",
       "      <td>0.0</td>\n",
       "      <td>0.0</td>\n",
       "      <td>0.0</td>\n",
       "      <td>0.0</td>\n",
       "      <td>0.0</td>\n",
       "      <td>0.0</td>\n",
       "      <td>0.0</td>\n",
       "    </tr>\n",
       "    <tr>\n",
       "      <th>349281</th>\n",
       "      <td>0.0</td>\n",
       "      <td>0.0</td>\n",
       "      <td>0.0</td>\n",
       "      <td>0.0</td>\n",
       "      <td>0.0</td>\n",
       "      <td>0.0</td>\n",
       "      <td>0.0</td>\n",
       "      <td>0.0</td>\n",
       "      <td>0.0</td>\n",
       "      <td>0.0</td>\n",
       "      <td>...</td>\n",
       "      <td>0.0</td>\n",
       "      <td>0.0</td>\n",
       "      <td>0.0</td>\n",
       "      <td>0.0</td>\n",
       "      <td>0.0</td>\n",
       "      <td>0.0</td>\n",
       "      <td>0.0</td>\n",
       "      <td>0.0</td>\n",
       "      <td>0.0</td>\n",
       "      <td>0.0</td>\n",
       "    </tr>\n",
       "    <tr>\n",
       "      <th>349286</th>\n",
       "      <td>0.0</td>\n",
       "      <td>0.0</td>\n",
       "      <td>0.0</td>\n",
       "      <td>0.0</td>\n",
       "      <td>0.0</td>\n",
       "      <td>0.0</td>\n",
       "      <td>0.0</td>\n",
       "      <td>0.0</td>\n",
       "      <td>0.0</td>\n",
       "      <td>0.0</td>\n",
       "      <td>...</td>\n",
       "      <td>0.0</td>\n",
       "      <td>0.0</td>\n",
       "      <td>0.0</td>\n",
       "      <td>0.0</td>\n",
       "      <td>0.0</td>\n",
       "      <td>0.0</td>\n",
       "      <td>0.0</td>\n",
       "      <td>0.0</td>\n",
       "      <td>0.0</td>\n",
       "      <td>0.0</td>\n",
       "    </tr>\n",
       "  </tbody>\n",
       "</table>\n",
       "<p>5 rows × 267 columns</p>\n",
       "</div>"
      ],
      "text/plain": [
       "Item_Name  Atash 25 kg (M)  Atash 25 kg (T)  Atash 50 kg (M)  Atash 50 kg (T)  \\\n",
       "Order_ID                                                                        \n",
       "349120                 0.0              0.0              0.0              0.0   \n",
       "349243                 0.0              0.0              0.0              0.0   \n",
       "349250                 0.0              0.0              0.0              0.0   \n",
       "349281                 0.0              0.0              0.0              0.0   \n",
       "349286                 0.0              0.0              0.0              0.0   \n",
       "\n",
       "Item_Name  Atash Atop 25 kg (T)  Atta 1 kg  Atta 2 kg  Atta 50 kg  \\\n",
       "Order_ID                                                            \n",
       "349120                      0.0        0.0        0.0         0.0   \n",
       "349243                      0.0        0.0        0.0      2400.0   \n",
       "349250                      0.0        0.0        0.0         0.0   \n",
       "349281                      0.0        0.0        0.0         0.0   \n",
       "349286                      0.0        0.0        0.0         0.0   \n",
       "\n",
       "Item_Name  Balam 25 kg (T)  Banglamoti 25 kg (M)  ...  Wheat Canada 1 kg  \\\n",
       "Order_ID                                          ...                      \n",
       "349120                 0.0                   0.0  ...                0.0   \n",
       "349243                 0.0                   0.0  ...                0.0   \n",
       "349250                 0.0                   0.0  ...                0.0   \n",
       "349281                 0.0                   0.0  ...                0.0   \n",
       "349286                 0.0                   0.0  ...                0.0   \n",
       "\n",
       "Item_Name  Wheat Canada 1000 kg  Wheat Canada 90 kg  Wheat Russia 1 kg  \\\n",
       "Order_ID                                                                 \n",
       "349120                      0.0                 0.0                0.0   \n",
       "349243                      0.0                 0.0                0.0   \n",
       "349250                      0.0                 0.0                0.0   \n",
       "349281                      0.0                 0.0                0.0   \n",
       "349286                      0.0                 0.0                0.0   \n",
       "\n",
       "Item_Name  Wheat Russia 1000 kg  White flatted rice 50 kg  \\\n",
       "Order_ID                                                    \n",
       "349120                      0.0                       0.0   \n",
       "349243                      0.0                       0.0   \n",
       "349250                      0.0                       0.0   \n",
       "349281                      0.0                       0.0   \n",
       "349286                      0.0                       0.0   \n",
       "\n",
       "Item_Name  Whole Gorom Masala 100 gm (T)  Yellow Peas 10 kg  \\\n",
       "Order_ID                                                      \n",
       "349120                               0.0                0.0   \n",
       "349243                               0.0                0.0   \n",
       "349250                               0.0                0.0   \n",
       "349281                               0.0                0.0   \n",
       "349286                               0.0                0.0   \n",
       "\n",
       "Item_Name  Yellow Peas 1000 KG  khud 3 Katari Atop 1 kg (M)  \n",
       "Order_ID                                                     \n",
       "349120                     0.0                          0.0  \n",
       "349243                     0.0                          0.0  \n",
       "349250                     0.0                          0.0  \n",
       "349281                     0.0                          0.0  \n",
       "349286                     0.0                          0.0  \n",
       "\n",
       "[5 rows x 267 columns]"
      ]
     },
     "execution_count": 27,
     "metadata": {},
     "output_type": "execute_result"
    }
   ],
   "source": [
    "basket.head()"
   ]
  },
  {
   "cell_type": "code",
   "execution_count": 28,
   "metadata": {},
   "outputs": [],
   "source": [
    "def encode_units(x):\n",
    "  if x<=0:\n",
    "    return 0\n",
    "  if x>=1:\n",
    "    return 1"
   ]
  },
  {
   "cell_type": "code",
   "execution_count": 29,
   "metadata": {},
   "outputs": [],
   "source": [
    "basket_sets=basket.applymap(encode_units)"
   ]
  },
  {
   "cell_type": "code",
   "execution_count": 30,
   "metadata": {},
   "outputs": [
    {
     "data": {
      "text/html": [
       "<div>\n",
       "<style scoped>\n",
       "    .dataframe tbody tr th:only-of-type {\n",
       "        vertical-align: middle;\n",
       "    }\n",
       "\n",
       "    .dataframe tbody tr th {\n",
       "        vertical-align: top;\n",
       "    }\n",
       "\n",
       "    .dataframe thead th {\n",
       "        text-align: right;\n",
       "    }\n",
       "</style>\n",
       "<table border=\"1\" class=\"dataframe\">\n",
       "  <thead>\n",
       "    <tr style=\"text-align: right;\">\n",
       "      <th>Item_Name</th>\n",
       "      <th>Atash 25 kg (M)</th>\n",
       "      <th>Atash 25 kg (T)</th>\n",
       "      <th>Atash 50 kg (M)</th>\n",
       "      <th>Atash 50 kg (T)</th>\n",
       "      <th>Atash Atop 25 kg (T)</th>\n",
       "      <th>Atta 1 kg</th>\n",
       "      <th>Atta 2 kg</th>\n",
       "      <th>Atta 50 kg</th>\n",
       "      <th>Balam 25 kg (T)</th>\n",
       "      <th>Banglamoti 25 kg (M)</th>\n",
       "      <th>...</th>\n",
       "      <th>Wheat Canada 1 kg</th>\n",
       "      <th>Wheat Canada 1000 kg</th>\n",
       "      <th>Wheat Canada 90 kg</th>\n",
       "      <th>Wheat Russia 1 kg</th>\n",
       "      <th>Wheat Russia 1000 kg</th>\n",
       "      <th>White flatted rice 50 kg</th>\n",
       "      <th>Whole Gorom Masala 100 gm (T)</th>\n",
       "      <th>Yellow Peas 10 kg</th>\n",
       "      <th>Yellow Peas 1000 KG</th>\n",
       "      <th>khud 3 Katari Atop 1 kg (M)</th>\n",
       "    </tr>\n",
       "    <tr>\n",
       "      <th>Order_ID</th>\n",
       "      <th></th>\n",
       "      <th></th>\n",
       "      <th></th>\n",
       "      <th></th>\n",
       "      <th></th>\n",
       "      <th></th>\n",
       "      <th></th>\n",
       "      <th></th>\n",
       "      <th></th>\n",
       "      <th></th>\n",
       "      <th></th>\n",
       "      <th></th>\n",
       "      <th></th>\n",
       "      <th></th>\n",
       "      <th></th>\n",
       "      <th></th>\n",
       "      <th></th>\n",
       "      <th></th>\n",
       "      <th></th>\n",
       "      <th></th>\n",
       "      <th></th>\n",
       "    </tr>\n",
       "  </thead>\n",
       "  <tbody>\n",
       "    <tr>\n",
       "      <th>349120</th>\n",
       "      <td>0</td>\n",
       "      <td>0</td>\n",
       "      <td>0</td>\n",
       "      <td>0</td>\n",
       "      <td>0</td>\n",
       "      <td>0</td>\n",
       "      <td>0</td>\n",
       "      <td>0</td>\n",
       "      <td>0</td>\n",
       "      <td>0</td>\n",
       "      <td>...</td>\n",
       "      <td>0</td>\n",
       "      <td>0</td>\n",
       "      <td>0</td>\n",
       "      <td>0</td>\n",
       "      <td>0</td>\n",
       "      <td>0</td>\n",
       "      <td>0</td>\n",
       "      <td>0</td>\n",
       "      <td>0</td>\n",
       "      <td>0</td>\n",
       "    </tr>\n",
       "    <tr>\n",
       "      <th>349243</th>\n",
       "      <td>0</td>\n",
       "      <td>0</td>\n",
       "      <td>0</td>\n",
       "      <td>0</td>\n",
       "      <td>0</td>\n",
       "      <td>0</td>\n",
       "      <td>0</td>\n",
       "      <td>1</td>\n",
       "      <td>0</td>\n",
       "      <td>0</td>\n",
       "      <td>...</td>\n",
       "      <td>0</td>\n",
       "      <td>0</td>\n",
       "      <td>0</td>\n",
       "      <td>0</td>\n",
       "      <td>0</td>\n",
       "      <td>0</td>\n",
       "      <td>0</td>\n",
       "      <td>0</td>\n",
       "      <td>0</td>\n",
       "      <td>0</td>\n",
       "    </tr>\n",
       "    <tr>\n",
       "      <th>349250</th>\n",
       "      <td>0</td>\n",
       "      <td>0</td>\n",
       "      <td>0</td>\n",
       "      <td>0</td>\n",
       "      <td>0</td>\n",
       "      <td>0</td>\n",
       "      <td>0</td>\n",
       "      <td>0</td>\n",
       "      <td>0</td>\n",
       "      <td>0</td>\n",
       "      <td>...</td>\n",
       "      <td>0</td>\n",
       "      <td>0</td>\n",
       "      <td>0</td>\n",
       "      <td>0</td>\n",
       "      <td>0</td>\n",
       "      <td>0</td>\n",
       "      <td>0</td>\n",
       "      <td>0</td>\n",
       "      <td>0</td>\n",
       "      <td>0</td>\n",
       "    </tr>\n",
       "  </tbody>\n",
       "</table>\n",
       "<p>3 rows × 267 columns</p>\n",
       "</div>"
      ],
      "text/plain": [
       "Item_Name  Atash 25 kg (M)  Atash 25 kg (T)  Atash 50 kg (M)  Atash 50 kg (T)  \\\n",
       "Order_ID                                                                        \n",
       "349120                   0                0                0                0   \n",
       "349243                   0                0                0                0   \n",
       "349250                   0                0                0                0   \n",
       "\n",
       "Item_Name  Atash Atop 25 kg (T)  Atta 1 kg  Atta 2 kg  Atta 50 kg  \\\n",
       "Order_ID                                                            \n",
       "349120                        0          0          0           0   \n",
       "349243                        0          0          0           1   \n",
       "349250                        0          0          0           0   \n",
       "\n",
       "Item_Name  Balam 25 kg (T)  Banglamoti 25 kg (M)  ...  Wheat Canada 1 kg  \\\n",
       "Order_ID                                          ...                      \n",
       "349120                   0                     0  ...                  0   \n",
       "349243                   0                     0  ...                  0   \n",
       "349250                   0                     0  ...                  0   \n",
       "\n",
       "Item_Name  Wheat Canada 1000 kg  Wheat Canada 90 kg  Wheat Russia 1 kg  \\\n",
       "Order_ID                                                                 \n",
       "349120                        0                   0                  0   \n",
       "349243                        0                   0                  0   \n",
       "349250                        0                   0                  0   \n",
       "\n",
       "Item_Name  Wheat Russia 1000 kg  White flatted rice 50 kg  \\\n",
       "Order_ID                                                    \n",
       "349120                        0                         0   \n",
       "349243                        0                         0   \n",
       "349250                        0                         0   \n",
       "\n",
       "Item_Name  Whole Gorom Masala 100 gm (T)  Yellow Peas 10 kg  \\\n",
       "Order_ID                                                      \n",
       "349120                                 0                  0   \n",
       "349243                                 0                  0   \n",
       "349250                                 0                  0   \n",
       "\n",
       "Item_Name  Yellow Peas 1000 KG  khud 3 Katari Atop 1 kg (M)  \n",
       "Order_ID                                                     \n",
       "349120                       0                            0  \n",
       "349243                       0                            0  \n",
       "349250                       0                            0  \n",
       "\n",
       "[3 rows x 267 columns]"
      ]
     },
     "execution_count": 30,
     "metadata": {},
     "output_type": "execute_result"
    }
   ],
   "source": [
    "basket_sets.head(3)"
   ]
  },
  {
   "cell_type": "code",
   "execution_count": 31,
   "metadata": {},
   "outputs": [
    {
     "data": {
      "text/plain": [
       "(28217, 267)"
      ]
     },
     "execution_count": 31,
     "metadata": {},
     "output_type": "execute_result"
    }
   ],
   "source": [
    "basket_sets.shape"
   ]
  },
  {
   "cell_type": "code",
   "execution_count": 32,
   "metadata": {},
   "outputs": [
    {
     "data": {
      "text/plain": [
       "Item_Name\n",
       "Atash 25 kg (M)                  0\n",
       "Atash 25 kg (T)                  0\n",
       "Atash 50 kg (M)                  0\n",
       "Atash 50 kg (T)                  0\n",
       "Atash Atop 25 kg (T)             0\n",
       "                                ..\n",
       "White flatted rice 50 kg         0\n",
       "Whole Gorom Masala 100 gm (T)    0\n",
       "Yellow Peas 10 kg                0\n",
       "Yellow Peas 1000 KG              0\n",
       "khud 3 Katari Atop 1 kg (M)      0\n",
       "Length: 267, dtype: int64"
      ]
     },
     "execution_count": 32,
     "metadata": {},
     "output_type": "execute_result"
    }
   ],
   "source": [
    "basket_sets.isnull().sum()"
   ]
  },
  {
   "cell_type": "code",
   "execution_count": 33,
   "metadata": {},
   "outputs": [],
   "source": [
    "basket_sets.dropna(inplace=True)"
   ]
  },
  {
   "cell_type": "code",
   "execution_count": 34,
   "metadata": {},
   "outputs": [
    {
     "name": "stderr",
     "output_type": "stream",
     "text": [
      "C:\\Users\\motiur\\AppData\\Roaming\\Python\\Python39\\site-packages\\mlxtend\\frequent_patterns\\fpcommon.py:109: DeprecationWarning: DataFrames with non-bool types result in worse computationalperformance and their support might be discontinued in the future.Please use a DataFrame with bool type\n",
      "  warnings.warn(\n"
     ]
    }
   ],
   "source": [
    "frequent_itemsets=apriori(basket_sets,min_support=0.02,use_colnames=True)"
   ]
  },
  {
   "cell_type": "code",
   "execution_count": 35,
   "metadata": {},
   "outputs": [
    {
     "data": {
      "text/html": [
       "<div>\n",
       "<style scoped>\n",
       "    .dataframe tbody tr th:only-of-type {\n",
       "        vertical-align: middle;\n",
       "    }\n",
       "\n",
       "    .dataframe tbody tr th {\n",
       "        vertical-align: top;\n",
       "    }\n",
       "\n",
       "    .dataframe thead th {\n",
       "        text-align: right;\n",
       "    }\n",
       "</style>\n",
       "<table border=\"1\" class=\"dataframe\">\n",
       "  <thead>\n",
       "    <tr style=\"text-align: right;\">\n",
       "      <th></th>\n",
       "      <th>antecedents</th>\n",
       "      <th>consequents</th>\n",
       "      <th>antecedent support</th>\n",
       "      <th>consequent support</th>\n",
       "      <th>support</th>\n",
       "      <th>confidence</th>\n",
       "      <th>lift</th>\n",
       "      <th>leverage</th>\n",
       "      <th>conviction</th>\n",
       "      <th>zhangs_metric</th>\n",
       "    </tr>\n",
       "  </thead>\n",
       "  <tbody>\n",
       "    <tr>\n",
       "      <th>0</th>\n",
       "      <td>(Atta 2 kg)</td>\n",
       "      <td>(Atta 1 kg)</td>\n",
       "      <td>0.04</td>\n",
       "      <td>0.08</td>\n",
       "      <td>0.03</td>\n",
       "      <td>0.66</td>\n",
       "      <td>8.14</td>\n",
       "      <td>0.03</td>\n",
       "      <td>2.69</td>\n",
       "      <td>0.92</td>\n",
       "    </tr>\n",
       "    <tr>\n",
       "      <th>1</th>\n",
       "      <td>(Atta 1 kg)</td>\n",
       "      <td>(Atta 2 kg)</td>\n",
       "      <td>0.08</td>\n",
       "      <td>0.04</td>\n",
       "      <td>0.03</td>\n",
       "      <td>0.36</td>\n",
       "      <td>8.14</td>\n",
       "      <td>0.03</td>\n",
       "      <td>1.49</td>\n",
       "      <td>0.95</td>\n",
       "    </tr>\n",
       "    <tr>\n",
       "      <th>2</th>\n",
       "      <td>(Atta 1 kg)</td>\n",
       "      <td>(Chinigura Premium 1 kg (T))</td>\n",
       "      <td>0.08</td>\n",
       "      <td>0.08</td>\n",
       "      <td>0.02</td>\n",
       "      <td>0.28</td>\n",
       "      <td>3.47</td>\n",
       "      <td>0.02</td>\n",
       "      <td>1.28</td>\n",
       "      <td>0.77</td>\n",
       "    </tr>\n",
       "    <tr>\n",
       "      <th>3</th>\n",
       "      <td>(Chinigura Premium 1 kg (T))</td>\n",
       "      <td>(Atta 1 kg)</td>\n",
       "      <td>0.08</td>\n",
       "      <td>0.08</td>\n",
       "      <td>0.02</td>\n",
       "      <td>0.28</td>\n",
       "      <td>3.47</td>\n",
       "      <td>0.02</td>\n",
       "      <td>1.28</td>\n",
       "      <td>0.77</td>\n",
       "    </tr>\n",
       "    <tr>\n",
       "      <th>4</th>\n",
       "      <td>(Maida 1 kg)</td>\n",
       "      <td>(Atta 1 kg)</td>\n",
       "      <td>0.04</td>\n",
       "      <td>0.08</td>\n",
       "      <td>0.03</td>\n",
       "      <td>0.70</td>\n",
       "      <td>8.63</td>\n",
       "      <td>0.02</td>\n",
       "      <td>3.05</td>\n",
       "      <td>0.92</td>\n",
       "    </tr>\n",
       "  </tbody>\n",
       "</table>\n",
       "</div>"
      ],
      "text/plain": [
       "                    antecedents                   consequents  \\\n",
       "0                   (Atta 2 kg)                   (Atta 1 kg)   \n",
       "1                   (Atta 1 kg)                   (Atta 2 kg)   \n",
       "2                   (Atta 1 kg)  (Chinigura Premium 1 kg (T))   \n",
       "3  (Chinigura Premium 1 kg (T))                   (Atta 1 kg)   \n",
       "4                  (Maida 1 kg)                   (Atta 1 kg)   \n",
       "\n",
       "   antecedent support  consequent support  support  confidence  lift  \\\n",
       "0                0.04                0.08     0.03        0.66  8.14   \n",
       "1                0.08                0.04     0.03        0.36  8.14   \n",
       "2                0.08                0.08     0.02        0.28  3.47   \n",
       "3                0.08                0.08     0.02        0.28  3.47   \n",
       "4                0.04                0.08     0.03        0.70  8.63   \n",
       "\n",
       "   leverage  conviction  zhangs_metric  \n",
       "0      0.03        2.69           0.92  \n",
       "1      0.03        1.49           0.95  \n",
       "2      0.02        1.28           0.77  \n",
       "3      0.02        1.28           0.77  \n",
       "4      0.02        3.05           0.92  "
      ]
     },
     "execution_count": 35,
     "metadata": {},
     "output_type": "execute_result"
    }
   ],
   "source": [
    "rules=round(association_rules(frequent_itemsets,metric='lift',min_threshold=1),2)\n",
    "rules.head(5)"
   ]
  },
  {
   "cell_type": "code",
   "execution_count": 36,
   "metadata": {},
   "outputs": [
    {
     "data": {
      "image/png": "[encoded data removed]",
      "text/plain": [
       "<Figure size 1500x900 with 4 Axes>"
      ]
     },
     "metadata": {
      "needs_background": "light"
     },
     "output_type": "display_data"
    }
   ],
   "source": [
    "plt.figure(figsize=(10,6),dpi=150)\n",
    "plt.subplot(221)\n",
    "sns.scatterplot(x=\"support\",y=\"confidence\",data=rules,hue=\"lift\",palette=\"viridis\")\n",
    "plt.subplot(222)\n",
    "sns.scatterplot(x=\"support\",y=\"lift\",data=rules,hue=\"confidence\",palette=\"viridis\")\n",
    "plt.subplot(223)\n",
    "sns.scatterplot(x=\"confidence\",y=\"lift\",data=rules,hue='support',palette=\"viridis\")\n",
    "plt.subplot(224)\n",
    "sns.scatterplot(x=\"antecedent support\",y=\"consequent support\",data=rules,hue='confidence',palette=\"viridis\")\n",
    "plt.tight_layout()\n",
    "plt.show()"
   ]
  },
  {
   "cell_type": "code",
   "execution_count": 37,
   "metadata": {},
   "outputs": [],
   "source": [
    "import networkx as nx\n",
    "import matplotlib.pyplot as plt\n",
    "import plotly.graph_objects as go"
   ]
  },
  {
   "cell_type": "code",
   "execution_count": 38,
   "metadata": {},
   "outputs": [
    {
     "data": {
      "application/vnd.plotly.v1+json": {
       "config": {
        "plotlyServerURL": "https://plot.ly"
       },
       "data": [
        {
         "hoverinfo": "none",
         "line": {
          "color": "#888",
          "width": 0.5
         },
         "mode": "lines",
         "type": "scatter",
         "x": [
          -0.2554137312606848,
          -0.11739322500995668,
          null,
          -0.11739322500995668,
          -0.2554137312606848,
          null,
          -0.11739322500995668,
          0.31367290526268465,
          null,
          -0.11739322500995668,
          -0.47797051695395987,
          null,
          0.31367290526268465,
          -0.11739322500995668,
          null,
          -0.47797051695395987,
          -0.11739322500995668,
          null,
          -0.8512849152717372,
          -0.5590061809756011,
          null,
          -0.5590061809756011,
          -0.8512849152717372,
          null,
          0.839384651447079,
          0.5040525274932486,
          null,
          0.5040525274932486,
          0.839384651447079,
          null,
          -0.9887121399642486,
          -0.9166753102573447,
          null,
          -0.9166753102573447,
          -0.9887121399642486,
          null,
          0.04866603573553546,
          0.4489398213886717,
          null,
          0.4489398213886717,
          0.04866603573553546,
          null,
          -0.08030813637945627,
          -0.31743205891869575,
          null,
          -0.31743205891869575,
          -0.08030813637945627,
          null,
          0.252562968292002,
          0.5440660233784267,
          null,
          0.252562968292002,
          0.5169599897711955,
          null,
          0.252562968292002,
          -0.14380919687575444,
          null,
          0.5440660233784267,
          0.252562968292002,
          null,
          0.5440660233784267,
          0.5169599897711955,
          null,
          0.5440660233784267,
          0.8920904420393013,
          null,
          0.5169599897711955,
          0.252562968292002,
          null,
          0.5169599897711955,
          0.5440660233784267,
          null,
          0.5169599897711955,
          0.34761004705929444,
          null,
          0.34761004705929444,
          0.5169599897711955,
          null,
          0.8920904420393013,
          0.5440660233784267,
          null,
          -0.14380919687575444,
          0.252562968292002,
          null
         ],
         "y": [
          0.21290550761267335,
          0.5645686558247316,
          null,
          0.5645686558247316,
          0.21290550761267335,
          null,
          0.5645686558247316,
          0.9012375433761085,
          null,
          0.5645686558247316,
          0.7754457462903864,
          null,
          0.9012375433761085,
          0.5645686558247316,
          null,
          0.7754457462903864,
          0.5645686558247316,
          null,
          -0.4384982156032543,
          -0.5336950108020414,
          null,
          -0.5336950108020414,
          -0.4384982156032543,
          null,
          0.6685869712938833,
          0.7225453362912929,
          null,
          0.7225453362912929,
          0.6685869712938833,
          null,
          0.38078723660865965,
          0.18436862437890128,
          null,
          0.18436862437890128,
          0.38078723660865965,
          null,
          -1,
          -0.9679699558136172,
          null,
          -0.9679699558136172,
          -1,
          null,
          0.9426164737968985,
          0.9939793259866406,
          null,
          0.9939793259866406,
          0.9426164737968985,
          null,
          -0.5605849648522057,
          -0.3332533777697559,
          null,
          -0.5605849648522057,
          -0.6618022425052694,
          null,
          -0.5605849648522057,
          -0.6918391631936208,
          null,
          -0.3332533777697559,
          -0.5605849648522057,
          null,
          -0.3332533777697559,
          -0.6618022425052694,
          null,
          -0.3332533777697559,
          -0.21026805181353245,
          null,
          -0.6618022425052694,
          -0.5605849648522057,
          null,
          -0.6618022425052694,
          -0.3332533777697559,
          null,
          -0.6618022425052694,
          -0.949130439106879,
          null,
          -0.949130439106879,
          -0.6618022425052694,
          null,
          -0.21026805181353245,
          -0.3332533777697559,
          null,
          -0.6918391631936208,
          -0.5605849648522057,
          null
         ]
        },
        {
         "hoverinfo": "text",
         "marker": {
          "colorbar": {
           "thickness": 15,
           "title": {
            "side": "right",
            "text": "Node Connections"
           },
           "xanchor": "left"
          },
          "colorscale": [
           [
            0,
            "rgb(255,255,217)"
           ],
           [
            0.125,
            "rgb(237,248,177)"
           ],
           [
            0.25,
            "rgb(199,233,180)"
           ],
           [
            0.375,
            "rgb(127,205,187)"
           ],
           [
            0.5,
            "rgb(65,182,196)"
           ],
           [
            0.625,
            "rgb(29,145,192)"
           ],
           [
            0.75,
            "rgb(34,94,168)"
           ],
           [
            0.875,
            "rgb(37,52,148)"
           ],
           [
            1,
            "rgb(8,29,88)"
           ]
          ],
          "showscale": true,
          "size": 10
         },
         "mode": "markers",
         "type": "scatter",
         "x": [
          -0.2554137312606848,
          -0.11739322500995668,
          0.31367290526268465,
          -0.47797051695395987,
          -0.8512849152717372,
          -0.5590061809756011,
          0.839384651447079,
          0.5040525274932486,
          -0.9887121399642486,
          -0.9166753102573447,
          0.04866603573553546,
          0.4489398213886717,
          -0.08030813637945627,
          -0.31743205891869575,
          0.252562968292002,
          0.5440660233784267,
          0.5169599897711955,
          0.34761004705929444,
          0.8920904420393013,
          -0.14380919687575444
         ],
         "y": [
          0.21290550761267335,
          0.5645686558247316,
          0.9012375433761085,
          0.7754457462903864,
          -0.4384982156032543,
          -0.5336950108020414,
          0.6685869712938833,
          0.7225453362912929,
          0.38078723660865965,
          0.18436862437890128,
          -1,
          -0.9679699558136172,
          0.9426164737968985,
          0.9939793259866406,
          -0.5605849648522057,
          -0.3332533777697559,
          -0.6618022425052694,
          -0.949130439106879,
          -0.21026805181353245,
          -0.6918391631936208
         ]
        }
       ],
       "layout": {
        "hovermode": "closest",
        "margin": {
         "b": 0,
         "l": 0,
         "r": 0,
         "t": 0
        },
        "showlegend": false,
        "template": {
         "data": {
          "bar": [
           {
            "error_x": {
             "color": "#2a3f5f"
            },
            "error_y": {
             "color": "#2a3f5f"
            },
            "marker": {
             "line": {
              "color": "#E5ECF6",
              "width": 0.5
             },
             "pattern": {
              "fillmode": "overlay",
              "size": 10,
              "solidity": 0.2
             }
            },
            "type": "bar"
           }
          ],
          "barpolar": [
           {
            "marker": {
             "line": {
              "color": "#E5ECF6",
              "width": 0.5
             },
             "pattern": {
              "fillmode": "overlay",
              "size": 10,
              "solidity": 0.2
             }
            },
            "type": "barpolar"
           }
          ],
          "carpet": [
           {
            "aaxis": {
             "endlinecolor": "#2a3f5f",
             "gridcolor": "white",
             "linecolor": "white",
             "minorgridcolor": "white",
             "startlinecolor": "#2a3f5f"
            },
            "baxis": {
             "endlinecolor": "#2a3f5f",
             "gridcolor": "white",
             "linecolor": "white",
             "minorgridcolor": "white",
             "startlinecolor": "#2a3f5f"
            },
            "type": "carpet"
           }
          ],
          "choropleth": [
           {
            "colorbar": {
             "outlinewidth": 0,
             "ticks": ""
            },
            "type": "choropleth"
           }
          ],
          "contour": [
           {
            "colorbar": {
             "outlinewidth": 0,
             "ticks": ""
            },
            "colorscale": [
             [
              0,
              "#0d0887"
             ],
             [
              0.1111111111111111,
              "#46039f"
             ],
             [
              0.2222222222222222,
              "#7201a8"
             ],
             [
              0.3333333333333333,
              "#9c179e"
             ],
             [
              0.4444444444444444,
              "#bd3786"
             ],
             [
              0.5555555555555556,
              "#d8576b"
             ],
             [
              0.6666666666666666,
              "#ed7953"
             ],
             [
              0.7777777777777778,
              "#fb9f3a"
             ],
             [
              0.8888888888888888,
              "#fdca26"
             ],
             [
              1,
              "#f0f921"
             ]
            ],
            "type": "contour"
           }
          ],
          "contourcarpet": [
           {
            "colorbar": {
             "outlinewidth": 0,
             "ticks": ""
            },
            "type": "contourcarpet"
           }
          ],
          "heatmap": [
           {
            "colorbar": {
             "outlinewidth": 0,
             "ticks": ""
            },
            "colorscale": [
             [
              0,
              "#0d0887"
             ],
             [
              0.1111111111111111,
              "#46039f"
             ],
             [
              0.2222222222222222,
              "#7201a8"
             ],
             [
              0.3333333333333333,
              "#9c179e"
             ],
             [
              0.4444444444444444,
              "#bd3786"
             ],
             [
              0.5555555555555556,
              "#d8576b"
             ],
             [
              0.6666666666666666,
              "#ed7953"
             ],
             [
              0.7777777777777778,
              "#fb9f3a"
             ],
             [
              0.8888888888888888,
              "#fdca26"
             ],
             [
              1,
              "#f0f921"
             ]
            ],
            "type": "heatmap"
           }
          ],
          "heatmapgl": [
           {
            "colorbar": {
             "outlinewidth": 0,
             "ticks": ""
            },
            "colorscale": [
             [
              0,
              "#0d0887"
             ],
             [
              0.1111111111111111,
              "#46039f"
             ],
             [
              0.2222222222222222,
              "#7201a8"
             ],
             [
              0.3333333333333333,
              "#9c179e"
             ],
             [
              0.4444444444444444,
              "#bd3786"
             ],
             [
              0.5555555555555556,
              "#d8576b"
             ],
             [
              0.6666666666666666,
              "#ed7953"
             ],
             [
              0.7777777777777778,
              "#fb9f3a"
             ],
             [
              0.8888888888888888,
              "#fdca26"
             ],
             [
              1,
              "#f0f921"
             ]
            ],
            "type": "heatmapgl"
           }
          ],
          "histogram": [
           {
            "marker": {
             "pattern": {
              "fillmode": "overlay",
              "size": 10,
              "solidity": 0.2
             }
            },
            "type": "histogram"
           }
          ],
          "histogram2d": [
           {
            "colorbar": {
             "outlinewidth": 0,
             "ticks": ""
            },
            "colorscale": [
             [
              0,
              "#0d0887"
             ],
             [
              0.1111111111111111,
              "#46039f"
             ],
             [
              0.2222222222222222,
              "#7201a8"
             ],
             [
              0.3333333333333333,
              "#9c179e"
             ],
             [
              0.4444444444444444,
              "#bd3786"
             ],
             [
              0.5555555555555556,
              "#d8576b"
             ],
             [
              0.6666666666666666,
              "#ed7953"
             ],
             [
              0.7777777777777778,
              "#fb9f3a"
             ],
             [
              0.8888888888888888,
              "#fdca26"
             ],
             [
              1,
              "#f0f921"
             ]
            ],
            "type": "histogram2d"
           }
          ],
          "histogram2dcontour": [
           {
            "colorbar": {
             "outlinewidth": 0,
             "ticks": ""
            },
            "colorscale": [
             [
              0,
              "#0d0887"
             ],
             [
              0.1111111111111111,
              "#46039f"
             ],
             [
              0.2222222222222222,
              "#7201a8"
             ],
             [
              0.3333333333333333,
              "#9c179e"
             ],
             [
              0.4444444444444444,
              "#bd3786"
             ],
             [
              0.5555555555555556,
              "#d8576b"
             ],
             [
              0.6666666666666666,
              "#ed7953"
             ],
             [
              0.7777777777777778,
              "#fb9f3a"
             ],
             [
              0.8888888888888888,
              "#fdca26"
             ],
             [
              1,
              "#f0f921"
             ]
            ],
            "type": "histogram2dcontour"
           }
          ],
          "mesh3d": [
           {
            "colorbar": {
             "outlinewidth": 0,
             "ticks": ""
            },
            "type": "mesh3d"
           }
          ],
          "parcoords": [
           {
            "line": {
             "colorbar": {
              "outlinewidth": 0,
              "ticks": ""
             }
            },
            "type": "parcoords"
           }
          ],
          "pie": [
           {
            "automargin": true,
            "type": "pie"
           }
          ],
          "scatter": [
           {
            "fillpattern": {
             "fillmode": "overlay",
             "size": 10,
             "solidity": 0.2
            },
            "type": "scatter"
           }
          ],
          "scatter3d": [
           {
            "line": {
             "colorbar": {
              "outlinewidth": 0,
              "ticks": ""
             }
            },
            "marker": {
             "colorbar": {
              "outlinewidth": 0,
              "ticks": ""
             }
            },
            "type": "scatter3d"
           }
          ],
          "scattercarpet": [
           {
            "marker": {
             "colorbar": {
              "outlinewidth": 0,
              "ticks": ""
             }
            },
            "type": "scattercarpet"
           }
          ],
          "scattergeo": [
           {
            "marker": {
             "colorbar": {
              "outlinewidth": 0,
              "ticks": ""
             }
            },
            "type": "scattergeo"
           }
          ],
          "scattergl": [
           {
            "marker": {
             "colorbar": {
              "outlinewidth": 0,
              "ticks": ""
             }
            },
            "type": "scattergl"
           }
          ],
          "scattermapbox": [
           {
            "marker": {
             "colorbar": {
              "outlinewidth": 0,
              "ticks": ""
             }
            },
            "type": "scattermapbox"
           }
          ],
          "scatterpolar": [
           {
            "marker": {
             "colorbar": {
              "outlinewidth": 0,
              "ticks": ""
             }
            },
            "type": "scatterpolar"
           }
          ],
          "scatterpolargl": [
           {
            "marker": {
             "colorbar": {
              "outlinewidth": 0,
              "ticks": ""
             }
            },
            "type": "scatterpolargl"
           }
          ],
          "scatterternary": [
           {
            "marker": {
             "colorbar": {
              "outlinewidth": 0,
              "ticks": ""
             }
            },
            "type": "scatterternary"
           }
          ],
          "surface": [
           {
            "colorbar": {
             "outlinewidth": 0,
             "ticks": ""
            },
            "colorscale": [
             [
              0,
              "#0d0887"
             ],
             [
              0.1111111111111111,
              "#46039f"
             ],
             [
              0.2222222222222222,
              "#7201a8"
             ],
             [
              0.3333333333333333,
              "#9c179e"
             ],
             [
              0.4444444444444444,
              "#bd3786"
             ],
             [
              0.5555555555555556,
              "#d8576b"
             ],
             [
              0.6666666666666666,
              "#ed7953"
             ],
             [
              0.7777777777777778,
              "#fb9f3a"
             ],
             [
              0.8888888888888888,
              "#fdca26"
             ],
             [
              1,
              "#f0f921"
             ]
            ],
            "type": "surface"
           }
          ],
          "table": [
           {
            "cells": {
             "fill": {
              "color": "#EBF0F8"
             },
             "line": {
              "color": "white"
             }
            },
            "header": {
             "fill": {
              "color": "#C8D4E3"
             },
             "line": {
              "color": "white"
             }
            },
            "type": "table"
           }
          ]
         },
         "layout": {
          "annotationdefaults": {
           "arrowcolor": "#2a3f5f",
           "arrowhead": 0,
           "arrowwidth": 1
          },
          "autotypenumbers": "strict",
          "coloraxis": {
           "colorbar": {
            "outlinewidth": 0,
            "ticks": ""
           }
          },
          "colorscale": {
           "diverging": [
            [
             0,
             "#8e0152"
            ],
            [
             0.1,
             "#c51b7d"
            ],
            [
             0.2,
             "#de77ae"
            ],
            [
             0.3,
             "#f1b6da"
            ],
            [
             0.4,
             "#fde0ef"
            ],
            [
             0.5,
             "#f7f7f7"
            ],
            [
             0.6,
             "#e6f5d0"
            ],
            [
             0.7,
             "#b8e186"
            ],
            [
             0.8,
             "#7fbc41"
            ],
            [
             0.9,
             "#4d9221"
            ],
            [
             1,
             "#276419"
            ]
           ],
           "sequential": [
            [
             0,
             "#0d0887"
            ],
            [
             0.1111111111111111,
             "#46039f"
            ],
            [
             0.2222222222222222,
             "#7201a8"
            ],
            [
             0.3333333333333333,
             "#9c179e"
            ],
            [
             0.4444444444444444,
             "#bd3786"
            ],
            [
             0.5555555555555556,
             "#d8576b"
            ],
            [
             0.6666666666666666,
             "#ed7953"
            ],
            [
             0.7777777777777778,
             "#fb9f3a"
            ],
            [
             0.8888888888888888,
             "#fdca26"
            ],
            [
             1,
             "#f0f921"
            ]
           ],
           "sequentialminus": [
            [
             0,
             "#0d0887"
            ],
            [
             0.1111111111111111,
             "#46039f"
            ],
            [
             0.2222222222222222,
             "#7201a8"
            ],
            [
             0.3333333333333333,
             "#9c179e"
            ],
            [
             0.4444444444444444,
             "#bd3786"
            ],
            [
             0.5555555555555556,
             "#d8576b"
            ],
            [
             0.6666666666666666,
             "#ed7953"
            ],
            [
             0.7777777777777778,
             "#fb9f3a"
            ],
            [
             0.8888888888888888,
             "#fdca26"
            ],
            [
             1,
             "#f0f921"
            ]
           ]
          },
          "colorway": [
           "#636efa",
           "#EF553B",
           "#00cc96",
           "#ab63fa",
           "#FFA15A",
           "#19d3f3",
           "#FF6692",
           "#B6E880",
           "#FF97FF",
           "#FECB52"
          ],
          "font": {
           "color": "#2a3f5f"
          },
          "geo": {
           "bgcolor": "white",
           "lakecolor": "white",
           "landcolor": "#E5ECF6",
           "showlakes": true,
           "showland": true,
           "subunitcolor": "white"
          },
          "hoverlabel": {
           "align": "left"
          },
          "hovermode": "closest",
          "mapbox": {
           "style": "light"
          },
          "paper_bgcolor": "white",
          "plot_bgcolor": "#E5ECF6",
          "polar": {
           "angularaxis": {
            "gridcolor": "white",
            "linecolor": "white",
            "ticks": ""
           },
           "bgcolor": "#E5ECF6",
           "radialaxis": {
            "gridcolor": "white",
            "linecolor": "white",
            "ticks": ""
           }
          },
          "scene": {
           "xaxis": {
            "backgroundcolor": "#E5ECF6",
            "gridcolor": "white",
            "gridwidth": 2,
            "linecolor": "white",
            "showbackground": true,
            "ticks": "",
            "zerolinecolor": "white"
           },
           "yaxis": {
            "backgroundcolor": "#E5ECF6",
            "gridcolor": "white",
            "gridwidth": 2,
            "linecolor": "white",
            "showbackground": true,
            "ticks": "",
            "zerolinecolor": "white"
           },
           "zaxis": {
            "backgroundcolor": "#E5ECF6",
            "gridcolor": "white",
            "gridwidth": 2,
            "linecolor": "white",
            "showbackground": true,
            "ticks": "",
            "zerolinecolor": "white"
           }
          },
          "shapedefaults": {
           "line": {
            "color": "#2a3f5f"
           }
          },
          "ternary": {
           "aaxis": {
            "gridcolor": "white",
            "linecolor": "white",
            "ticks": ""
           },
           "baxis": {
            "gridcolor": "white",
            "linecolor": "white",
            "ticks": ""
           },
           "bgcolor": "#E5ECF6",
           "caxis": {
            "gridcolor": "white",
            "linecolor": "white",
            "ticks": ""
           }
          },
          "title": {
           "x": 0.05
          },
          "xaxis": {
           "automargin": true,
           "gridcolor": "white",
           "linecolor": "white",
           "ticks": "",
           "title": {
            "standoff": 15
           },
           "zerolinecolor": "white",
           "zerolinewidth": 2
          },
          "yaxis": {
           "automargin": true,
           "gridcolor": "white",
           "linecolor": "white",
           "ticks": "",
           "title": {
            "standoff": 15
           },
           "zerolinecolor": "white",
           "zerolinewidth": 2
          }
         }
        }
       }
      }
     },
     "metadata": {},
     "output_type": "display_data"
    }
   ],
   "source": [
    "# Create a directed graph\n",
    "G = nx.DiGraph()\n",
    "\n",
    "# Add nodes and edges from association rules\n",
    "for idx, row in rules.iterrows():\n",
    "    G.add_node(tuple(row['antecedents']), color='skyblue')\n",
    "    G.add_node(tuple(row['consequents']), color='orange')\n",
    "    G.add_edge(tuple(row['antecedents']), tuple(row['consequents']), weight=row['support'])\n",
    "\n",
    "# Set node positions using a spring layout\n",
    "pos = nx.spring_layout(G)\n",
    "\n",
    "# Create an interactive plot using plotly\n",
    "edge_x = []\n",
    "edge_y = []\n",
    "for edge in G.edges(data=True):\n",
    "    x0, y0 = pos[edge[0]]\n",
    "    x1, y1 = pos[edge[1]]\n",
    "    edge_x.append(x0)\n",
    "    edge_x.append(x1)\n",
    "    edge_x.append(None)\n",
    "    edge_y.append(y0)\n",
    "    edge_y.append(y1)\n",
    "    edge_y.append(None)\n",
    "\n",
    "edge_trace = go.Scatter(\n",
    "    x=edge_x, y=edge_y,\n",
    "    line=dict(width=0.5, color='#888'),\n",
    "    hoverinfo='none',\n",
    "    mode='lines')\n",
    "\n",
    "node_x = []\n",
    "node_y = []\n",
    "for node in G.nodes():\n",
    "    x, y = pos[node]\n",
    "    node_x.append(x)\n",
    "    node_y.append(y)\n",
    "\n",
    "node_trace = go.Scatter(\n",
    "    x=node_x, y=node_y,\n",
    "    mode='markers',\n",
    "    hoverinfo='text',\n",
    "    marker=dict(\n",
    "        showscale=True,\n",
    "        colorscale='YlGnBu',\n",
    "        size=10,\n",
    "        colorbar=dict(\n",
    "            thickness=15,\n",
    "            title='Node Connections',\n",
    "            xanchor='left',\n",
    "            titleside='right'\n",
    "        )\n",
    "    )\n",
    ")\n",
    "\n",
    "# Customize the layout\n",
    "layout = go.Layout(\n",
    "    showlegend=False,\n",
    "    hovermode='closest',\n",
    "    margin=dict(b=0, l=0, r=0, t=0),\n",
    ")\n",
    "\n",
    "# Create the figure\n",
    "fig = go.Figure(data=[edge_trace, node_trace], layout=layout)\n",
    "\n",
    "# Show the interactive graph\n",
    "fig.show()"
   ]
  },
  {
   "cell_type": "markdown",
   "metadata": {},
   "source": [
    "3-2. | The top 5 of the highest support value of items(antecedents)"
   ]
  },
  {
   "cell_type": "code",
   "execution_count": 39,
   "metadata": {},
   "outputs": [
    {
     "data": {
      "text/html": [
       "<div>\n",
       "<style scoped>\n",
       "    .dataframe tbody tr th:only-of-type {\n",
       "        vertical-align: middle;\n",
       "    }\n",
       "\n",
       "    .dataframe tbody tr th {\n",
       "        vertical-align: top;\n",
       "    }\n",
       "\n",
       "    .dataframe thead th {\n",
       "        text-align: right;\n",
       "    }\n",
       "</style>\n",
       "<table border=\"1\" class=\"dataframe\">\n",
       "  <thead>\n",
       "    <tr style=\"text-align: right;\">\n",
       "      <th></th>\n",
       "      <th>antecedents</th>\n",
       "      <th>consequents</th>\n",
       "      <th>support</th>\n",
       "    </tr>\n",
       "  </thead>\n",
       "  <tbody>\n",
       "    <tr>\n",
       "      <th>10</th>\n",
       "      <td>(Miniket 25 kg (M))</td>\n",
       "      <td>(Miniket 50 kg (M))</td>\n",
       "      <td>0.05</td>\n",
       "    </tr>\n",
       "    <tr>\n",
       "      <th>11</th>\n",
       "      <td>(Miniket 50 kg (M))</td>\n",
       "      <td>(Miniket 25 kg (M))</td>\n",
       "      <td>0.05</td>\n",
       "    </tr>\n",
       "    <tr>\n",
       "      <th>27</th>\n",
       "      <td>(Soybean Oil Fortified 5 L)</td>\n",
       "      <td>(Soybean Oil Fortified 1 L, Soybean Oil Fortif...</td>\n",
       "      <td>0.04</td>\n",
       "    </tr>\n",
       "    <tr>\n",
       "      <th>26</th>\n",
       "      <td>(Soybean Oil Fortified 2 L)</td>\n",
       "      <td>(Soybean Oil Fortified 1 L, Soybean Oil Fortif...</td>\n",
       "      <td>0.04</td>\n",
       "    </tr>\n",
       "    <tr>\n",
       "      <th>25</th>\n",
       "      <td>(Soybean Oil Fortified 1 L)</td>\n",
       "      <td>(Soybean Oil Fortified 2 L, Soybean Oil Fortif...</td>\n",
       "      <td>0.04</td>\n",
       "    </tr>\n",
       "  </tbody>\n",
       "</table>\n",
       "</div>"
      ],
      "text/plain": [
       "                    antecedents  \\\n",
       "10          (Miniket 25 kg (M))   \n",
       "11          (Miniket 50 kg (M))   \n",
       "27  (Soybean Oil Fortified 5 L)   \n",
       "26  (Soybean Oil Fortified 2 L)   \n",
       "25  (Soybean Oil Fortified 1 L)   \n",
       "\n",
       "                                          consequents  support  \n",
       "10                                (Miniket 50 kg (M))     0.05  \n",
       "11                                (Miniket 25 kg (M))     0.05  \n",
       "27  (Soybean Oil Fortified 1 L, Soybean Oil Fortif...     0.04  \n",
       "26  (Soybean Oil Fortified 1 L, Soybean Oil Fortif...     0.04  \n",
       "25  (Soybean Oil Fortified 2 L, Soybean Oil Fortif...     0.04  "
      ]
     },
     "execution_count": 39,
     "metadata": {},
     "output_type": "execute_result"
    }
   ],
   "source": [
    "rules[['antecedents','consequents','support']].sort_values('support',ascending=False)[:5]"
   ]
  },
  {
   "cell_type": "markdown",
   "metadata": {},
   "source": [
    "3-3. | The top 5 of the highest confidence value of items"
   ]
  },
  {
   "cell_type": "code",
   "execution_count": 40,
   "metadata": {},
   "outputs": [
    {
     "data": {
      "text/html": [
       "<div>\n",
       "<style scoped>\n",
       "    .dataframe tbody tr th:only-of-type {\n",
       "        vertical-align: middle;\n",
       "    }\n",
       "\n",
       "    .dataframe tbody tr th {\n",
       "        vertical-align: top;\n",
       "    }\n",
       "\n",
       "    .dataframe thead th {\n",
       "        text-align: right;\n",
       "    }\n",
       "</style>\n",
       "<table border=\"1\" class=\"dataframe\">\n",
       "  <thead>\n",
       "    <tr style=\"text-align: right;\">\n",
       "      <th></th>\n",
       "      <th>antecedents</th>\n",
       "      <th>consequents</th>\n",
       "      <th>confidence</th>\n",
       "    </tr>\n",
       "  </thead>\n",
       "  <tbody>\n",
       "    <tr>\n",
       "      <th>13</th>\n",
       "      <td>(Miniket 50 kg (T))</td>\n",
       "      <td>(Miniket 25 kg (T))</td>\n",
       "      <td>0.89</td>\n",
       "    </tr>\n",
       "    <tr>\n",
       "      <th>23</th>\n",
       "      <td>(Soybean Oil Fortified 1 L, Soybean Oil Fortif...</td>\n",
       "      <td>(Soybean Oil Fortified 2 L)</td>\n",
       "      <td>0.87</td>\n",
       "    </tr>\n",
       "    <tr>\n",
       "      <th>24</th>\n",
       "      <td>(Soybean Oil Fortified 2 L, Soybean Oil Fortif...</td>\n",
       "      <td>(Soybean Oil Fortified 1 L)</td>\n",
       "      <td>0.85</td>\n",
       "    </tr>\n",
       "    <tr>\n",
       "      <th>11</th>\n",
       "      <td>(Miniket 50 kg (M))</td>\n",
       "      <td>(Miniket 25 kg (M))</td>\n",
       "      <td>0.85</td>\n",
       "    </tr>\n",
       "    <tr>\n",
       "      <th>22</th>\n",
       "      <td>(Soybean Oil Fortified 1 L, Soybean Oil Fortif...</td>\n",
       "      <td>(Soybean Oil Fortified 5 L)</td>\n",
       "      <td>0.80</td>\n",
       "    </tr>\n",
       "  </tbody>\n",
       "</table>\n",
       "</div>"
      ],
      "text/plain": [
       "                                          antecedents  \\\n",
       "13                                (Miniket 50 kg (T))   \n",
       "23  (Soybean Oil Fortified 1 L, Soybean Oil Fortif...   \n",
       "24  (Soybean Oil Fortified 2 L, Soybean Oil Fortif...   \n",
       "11                                (Miniket 50 kg (M))   \n",
       "22  (Soybean Oil Fortified 1 L, Soybean Oil Fortif...   \n",
       "\n",
       "                    consequents  confidence  \n",
       "13          (Miniket 25 kg (T))        0.89  \n",
       "23  (Soybean Oil Fortified 2 L)        0.87  \n",
       "24  (Soybean Oil Fortified 1 L)        0.85  \n",
       "11          (Miniket 25 kg (M))        0.85  \n",
       "22  (Soybean Oil Fortified 5 L)        0.80  "
      ]
     },
     "execution_count": 40,
     "metadata": {},
     "output_type": "execute_result"
    }
   ],
   "source": [
    "rules[['antecedents','consequents','confidence']].sort_values('confidence',ascending=False)[:5]"
   ]
  },
  {
   "cell_type": "markdown",
   "metadata": {},
   "source": [
    "3-4. | The top 5 of the highest lift value of items"
   ]
  },
  {
   "cell_type": "code",
   "execution_count": 41,
   "metadata": {},
   "outputs": [
    {
     "data": {
      "text/html": [
       "<div>\n",
       "<style scoped>\n",
       "    .dataframe tbody tr th:only-of-type {\n",
       "        vertical-align: middle;\n",
       "    }\n",
       "\n",
       "    .dataframe tbody tr th {\n",
       "        vertical-align: top;\n",
       "    }\n",
       "\n",
       "    .dataframe thead th {\n",
       "        text-align: right;\n",
       "    }\n",
       "</style>\n",
       "<table border=\"1\" class=\"dataframe\">\n",
       "  <thead>\n",
       "    <tr style=\"text-align: right;\">\n",
       "      <th></th>\n",
       "      <th>antecedents</th>\n",
       "      <th>consequents</th>\n",
       "      <th>lift</th>\n",
       "    </tr>\n",
       "  </thead>\n",
       "  <tbody>\n",
       "    <tr>\n",
       "      <th>26</th>\n",
       "      <td>(Soybean Oil Fortified 2 L)</td>\n",
       "      <td>(Soybean Oil Fortified 1 L, Soybean Oil Fortif...</td>\n",
       "      <td>15.70</td>\n",
       "    </tr>\n",
       "    <tr>\n",
       "      <th>23</th>\n",
       "      <td>(Soybean Oil Fortified 1 L, Soybean Oil Fortif...</td>\n",
       "      <td>(Soybean Oil Fortified 2 L)</td>\n",
       "      <td>15.70</td>\n",
       "    </tr>\n",
       "    <tr>\n",
       "      <th>8</th>\n",
       "      <td>(Miniket 5 kg (T))</td>\n",
       "      <td>(Katari Najir 5 kg (T))</td>\n",
       "      <td>15.12</td>\n",
       "    </tr>\n",
       "    <tr>\n",
       "      <th>9</th>\n",
       "      <td>(Katari Najir 5 kg (T))</td>\n",
       "      <td>(Miniket 5 kg (T))</td>\n",
       "      <td>15.12</td>\n",
       "    </tr>\n",
       "    <tr>\n",
       "      <th>25</th>\n",
       "      <td>(Soybean Oil Fortified 1 L)</td>\n",
       "      <td>(Soybean Oil Fortified 2 L, Soybean Oil Fortif...</td>\n",
       "      <td>14.98</td>\n",
       "    </tr>\n",
       "    <tr>\n",
       "      <th>24</th>\n",
       "      <td>(Soybean Oil Fortified 2 L, Soybean Oil Fortif...</td>\n",
       "      <td>(Soybean Oil Fortified 1 L)</td>\n",
       "      <td>14.98</td>\n",
       "    </tr>\n",
       "    <tr>\n",
       "      <th>17</th>\n",
       "      <td>(Soybean Oil Fortified 2 L)</td>\n",
       "      <td>(Soybean Oil Fortified 1 L)</td>\n",
       "      <td>14.12</td>\n",
       "    </tr>\n",
       "    <tr>\n",
       "      <th>16</th>\n",
       "      <td>(Soybean Oil Fortified 1 L)</td>\n",
       "      <td>(Soybean Oil Fortified 2 L)</td>\n",
       "      <td>14.12</td>\n",
       "    </tr>\n",
       "    <tr>\n",
       "      <th>27</th>\n",
       "      <td>(Soybean Oil Fortified 5 L)</td>\n",
       "      <td>(Soybean Oil Fortified 1 L, Soybean Oil Fortif...</td>\n",
       "      <td>13.45</td>\n",
       "    </tr>\n",
       "    <tr>\n",
       "      <th>22</th>\n",
       "      <td>(Soybean Oil Fortified 1 L, Soybean Oil Fortif...</td>\n",
       "      <td>(Soybean Oil Fortified 5 L)</td>\n",
       "      <td>13.45</td>\n",
       "    </tr>\n",
       "  </tbody>\n",
       "</table>\n",
       "</div>"
      ],
      "text/plain": [
       "                                          antecedents  \\\n",
       "26                        (Soybean Oil Fortified 2 L)   \n",
       "23  (Soybean Oil Fortified 1 L, Soybean Oil Fortif...   \n",
       "8                                  (Miniket 5 kg (T))   \n",
       "9                             (Katari Najir 5 kg (T))   \n",
       "25                        (Soybean Oil Fortified 1 L)   \n",
       "24  (Soybean Oil Fortified 2 L, Soybean Oil Fortif...   \n",
       "17                        (Soybean Oil Fortified 2 L)   \n",
       "16                        (Soybean Oil Fortified 1 L)   \n",
       "27                        (Soybean Oil Fortified 5 L)   \n",
       "22  (Soybean Oil Fortified 1 L, Soybean Oil Fortif...   \n",
       "\n",
       "                                          consequents   lift  \n",
       "26  (Soybean Oil Fortified 1 L, Soybean Oil Fortif...  15.70  \n",
       "23                        (Soybean Oil Fortified 2 L)  15.70  \n",
       "8                             (Katari Najir 5 kg (T))  15.12  \n",
       "9                                  (Miniket 5 kg (T))  15.12  \n",
       "25  (Soybean Oil Fortified 2 L, Soybean Oil Fortif...  14.98  \n",
       "24                        (Soybean Oil Fortified 1 L)  14.98  \n",
       "17                        (Soybean Oil Fortified 1 L)  14.12  \n",
       "16                        (Soybean Oil Fortified 2 L)  14.12  \n",
       "27  (Soybean Oil Fortified 1 L, Soybean Oil Fortif...  13.45  \n",
       "22                        (Soybean Oil Fortified 5 L)  13.45  "
      ]
     },
     "execution_count": 41,
     "metadata": {},
     "output_type": "execute_result"
    }
   ],
   "source": [
    "rules[['antecedents','consequents','lift']].sort_values('lift',ascending=False)[:10]"
   ]
  },
  {
   "cell_type": "markdown",
   "metadata": {},
   "source": [
    "3-5. | The best combination of the items"
   ]
  },
  {
   "cell_type": "code",
   "execution_count": 45,
   "metadata": {},
   "outputs": [
    {
     "data": {
      "text/html": [
       "<div>\n",
       "<style scoped>\n",
       "    .dataframe tbody tr th:only-of-type {\n",
       "        vertical-align: middle;\n",
       "    }\n",
       "\n",
       "    .dataframe tbody tr th {\n",
       "        vertical-align: top;\n",
       "    }\n",
       "\n",
       "    .dataframe thead th {\n",
       "        text-align: right;\n",
       "    }\n",
       "</style>\n",
       "<table border=\"1\" class=\"dataframe\">\n",
       "  <thead>\n",
       "    <tr style=\"text-align: right;\">\n",
       "      <th></th>\n",
       "      <th>antecedents</th>\n",
       "      <th>consequents</th>\n",
       "      <th>antecedent support</th>\n",
       "      <th>consequent support</th>\n",
       "      <th>support</th>\n",
       "      <th>confidence</th>\n",
       "      <th>lift</th>\n",
       "      <th>leverage</th>\n",
       "      <th>conviction</th>\n",
       "      <th>zhangs_metric</th>\n",
       "    </tr>\n",
       "  </thead>\n",
       "  <tbody>\n",
       "    <tr>\n",
       "      <th>23</th>\n",
       "      <td>(Soybean Oil Fortified 1 L, Soybean Oil Fortif...</td>\n",
       "      <td>(Soybean Oil Fortified 2 L)</td>\n",
       "      <td>0.04</td>\n",
       "      <td>0.06</td>\n",
       "      <td>0.04</td>\n",
       "      <td>0.87</td>\n",
       "      <td>15.70</td>\n",
       "      <td>0.03</td>\n",
       "      <td>7.07</td>\n",
       "      <td>0.98</td>\n",
       "    </tr>\n",
       "    <tr>\n",
       "      <th>24</th>\n",
       "      <td>(Soybean Oil Fortified 2 L, Soybean Oil Fortif...</td>\n",
       "      <td>(Soybean Oil Fortified 1 L)</td>\n",
       "      <td>0.04</td>\n",
       "      <td>0.06</td>\n",
       "      <td>0.04</td>\n",
       "      <td>0.85</td>\n",
       "      <td>14.98</td>\n",
       "      <td>0.03</td>\n",
       "      <td>6.26</td>\n",
       "      <td>0.97</td>\n",
       "    </tr>\n",
       "    <tr>\n",
       "      <th>16</th>\n",
       "      <td>(Soybean Oil Fortified 1 L)</td>\n",
       "      <td>(Soybean Oil Fortified 2 L)</td>\n",
       "      <td>0.06</td>\n",
       "      <td>0.06</td>\n",
       "      <td>0.04</td>\n",
       "      <td>0.78</td>\n",
       "      <td>14.12</td>\n",
       "      <td>0.04</td>\n",
       "      <td>4.28</td>\n",
       "      <td>0.99</td>\n",
       "    </tr>\n",
       "    <tr>\n",
       "      <th>17</th>\n",
       "      <td>(Soybean Oil Fortified 2 L)</td>\n",
       "      <td>(Soybean Oil Fortified 1 L)</td>\n",
       "      <td>0.06</td>\n",
       "      <td>0.06</td>\n",
       "      <td>0.04</td>\n",
       "      <td>0.80</td>\n",
       "      <td>14.12</td>\n",
       "      <td>0.04</td>\n",
       "      <td>4.74</td>\n",
       "      <td>0.98</td>\n",
       "    </tr>\n",
       "    <tr>\n",
       "      <th>22</th>\n",
       "      <td>(Soybean Oil Fortified 1 L, Soybean Oil Fortif...</td>\n",
       "      <td>(Soybean Oil Fortified 5 L)</td>\n",
       "      <td>0.04</td>\n",
       "      <td>0.06</td>\n",
       "      <td>0.04</td>\n",
       "      <td>0.80</td>\n",
       "      <td>13.45</td>\n",
       "      <td>0.03</td>\n",
       "      <td>4.60</td>\n",
       "      <td>0.97</td>\n",
       "    </tr>\n",
       "    <tr>\n",
       "      <th>20</th>\n",
       "      <td>(Soybean Oil Fortified 2 L)</td>\n",
       "      <td>(Soybean Oil Fortified 5 L)</td>\n",
       "      <td>0.06</td>\n",
       "      <td>0.06</td>\n",
       "      <td>0.04</td>\n",
       "      <td>0.75</td>\n",
       "      <td>12.68</td>\n",
       "      <td>0.04</td>\n",
       "      <td>3.77</td>\n",
       "      <td>0.97</td>\n",
       "    </tr>\n",
       "    <tr>\n",
       "      <th>21</th>\n",
       "      <td>(Soybean Oil Fortified 5 L)</td>\n",
       "      <td>(Soybean Oil Fortified 2 L)</td>\n",
       "      <td>0.06</td>\n",
       "      <td>0.06</td>\n",
       "      <td>0.04</td>\n",
       "      <td>0.70</td>\n",
       "      <td>12.68</td>\n",
       "      <td>0.04</td>\n",
       "      <td>3.15</td>\n",
       "      <td>0.98</td>\n",
       "    </tr>\n",
       "    <tr>\n",
       "      <th>13</th>\n",
       "      <td>(Miniket 50 kg (T))</td>\n",
       "      <td>(Miniket 25 kg (T))</td>\n",
       "      <td>0.03</td>\n",
       "      <td>0.07</td>\n",
       "      <td>0.03</td>\n",
       "      <td>0.89</td>\n",
       "      <td>12.49</td>\n",
       "      <td>0.03</td>\n",
       "      <td>8.44</td>\n",
       "      <td>0.95</td>\n",
       "    </tr>\n",
       "    <tr>\n",
       "      <th>7</th>\n",
       "      <td>(Iodized Salt 500gm)</td>\n",
       "      <td>(Iodized Salt 1 kg)</td>\n",
       "      <td>0.03</td>\n",
       "      <td>0.06</td>\n",
       "      <td>0.02</td>\n",
       "      <td>0.70</td>\n",
       "      <td>12.31</td>\n",
       "      <td>0.02</td>\n",
       "      <td>3.13</td>\n",
       "      <td>0.95</td>\n",
       "    </tr>\n",
       "    <tr>\n",
       "      <th>18</th>\n",
       "      <td>(Soybean Oil Fortified 1 L)</td>\n",
       "      <td>(Soybean Oil Fortified 5 L)</td>\n",
       "      <td>0.06</td>\n",
       "      <td>0.06</td>\n",
       "      <td>0.04</td>\n",
       "      <td>0.72</td>\n",
       "      <td>12.10</td>\n",
       "      <td>0.04</td>\n",
       "      <td>3.31</td>\n",
       "      <td>0.97</td>\n",
       "    </tr>\n",
       "  </tbody>\n",
       "</table>\n",
       "</div>"
      ],
      "text/plain": [
       "                                          antecedents  \\\n",
       "23  (Soybean Oil Fortified 1 L, Soybean Oil Fortif...   \n",
       "24  (Soybean Oil Fortified 2 L, Soybean Oil Fortif...   \n",
       "16                        (Soybean Oil Fortified 1 L)   \n",
       "17                        (Soybean Oil Fortified 2 L)   \n",
       "22  (Soybean Oil Fortified 1 L, Soybean Oil Fortif...   \n",
       "20                        (Soybean Oil Fortified 2 L)   \n",
       "21                        (Soybean Oil Fortified 5 L)   \n",
       "13                                (Miniket 50 kg (T))   \n",
       "7                                (Iodized Salt 500gm)   \n",
       "18                        (Soybean Oil Fortified 1 L)   \n",
       "\n",
       "                    consequents  antecedent support  consequent support  \\\n",
       "23  (Soybean Oil Fortified 2 L)                0.04                0.06   \n",
       "24  (Soybean Oil Fortified 1 L)                0.04                0.06   \n",
       "16  (Soybean Oil Fortified 2 L)                0.06                0.06   \n",
       "17  (Soybean Oil Fortified 1 L)                0.06                0.06   \n",
       "22  (Soybean Oil Fortified 5 L)                0.04                0.06   \n",
       "20  (Soybean Oil Fortified 5 L)                0.06                0.06   \n",
       "21  (Soybean Oil Fortified 2 L)                0.06                0.06   \n",
       "13          (Miniket 25 kg (T))                0.03                0.07   \n",
       "7           (Iodized Salt 1 kg)                0.03                0.06   \n",
       "18  (Soybean Oil Fortified 5 L)                0.06                0.06   \n",
       "\n",
       "    support  confidence   lift  leverage  conviction  zhangs_metric  \n",
       "23     0.04        0.87  15.70      0.03        7.07           0.98  \n",
       "24     0.04        0.85  14.98      0.03        6.26           0.97  \n",
       "16     0.04        0.78  14.12      0.04        4.28           0.99  \n",
       "17     0.04        0.80  14.12      0.04        4.74           0.98  \n",
       "22     0.04        0.80  13.45      0.03        4.60           0.97  \n",
       "20     0.04        0.75  12.68      0.04        3.77           0.97  \n",
       "21     0.04        0.70  12.68      0.04        3.15           0.98  \n",
       "13     0.03        0.89  12.49      0.03        8.44           0.95  \n",
       "7      0.02        0.70  12.31      0.02        3.13           0.95  \n",
       "18     0.04        0.72  12.10      0.04        3.31           0.97  "
      ]
     },
     "execution_count": 45,
     "metadata": {},
     "output_type": "execute_result"
    }
   ],
   "source": [
    "freq_com_set = rules[(rules['lift']>=12)&(rules['confidence']>=0.7)].sort_values('lift',ascending=False)\n",
    "freq_com_set"
   ]
  },
  {
   "cell_type": "code",
   "execution_count": 43,
   "metadata": {},
   "outputs": [],
   "source": [
    "freq_com_set.to_excel(r'C:\\Users\\motiur\\Desktop\\freq_com_set.xlsx', index=False)"
   ]
  },
  {
   "cell_type": "markdown",
   "metadata": {},
   "source": [
    "# Conclusion"
   ]
  },
  {
   "cell_type": "markdown",
   "metadata": {},
   "source": [
    "The Most Orderd Item Is:  Ricr Bran Boiled 1K (T)\n",
    "\n",
    "The Most frequent Item is : Miniket 25K (T)\n",
    "\n",
    "The Most frequent Item Set is :Soybean Oil Fortified 1L , Soybean Oil Fortified 5L and Soybean Oil Fortified 2L"
   ]
  }
 ],
 "metadata": {
  "kernelspec": {
   "display_name": "base",
   "language": "python",
   "name": "python3"
  },
  "language_info": {
   "codemirror_mode": {
    "name": "ipython",
    "version": 3
   },
   "file_extension": ".py",
   "mimetype": "text/x-python",
   "name": "python",
   "nbconvert_exporter": "python",
   "pygments_lexer": "ipython3",
   "version": "3.9.12"
  }
 },
 "nbformat": 4,
 "nbformat_minor": 2
}
